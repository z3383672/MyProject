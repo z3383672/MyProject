{
 "cells": [
  {
   "cell_type": "code",
   "execution_count": 1,
   "metadata": {},
   "outputs": [],
   "source": [
    "import torch"
   ]
  },
  {
   "cell_type": "code",
   "execution_count": null,
   "metadata": {},
   "outputs": [],
   "source": [
    "import torch\n",
    "import torch.nn as nn\n",
    "import torch.optim as optim\n",
    "\n",
    "# Transformer model implementation\n",
    "class Transformer(nn.Module):\n",
    "    def __init__(self, input_size, output_size, hidden_size, num_layers, num_heads, dropout):\n",
    "        super(Transformer, self).__init__()\n",
    "\n",
    "        self.encoder = Encoder(input_size, hidden_size, num_layers, num_heads, dropout)\n",
    "        self.decoder = Decoder(output_size, hidden_size, num_layers, num_heads, dropout)\n",
    "        self.output_linear = nn.Linear(hidden_size, output_size)\n",
    "\n",
    "    def forward(self, input, target):\n",
    "        encoder_output = self.encoder(input)\n",
    "        decoder_output = self.decoder(target, encoder_output)\n",
    "        output = self.output_linear(decoder_output)\n",
    "        return output\n",
    "\n",
    "\n",
    "class Encoder(nn.Module):\n",
    "    def __init__(self, input_size, hidden_size, num_layers, num_heads, dropout):\n",
    "        super(Encoder, self).__init__()\n",
    "\n",
    "        self.embedding = nn.Embedding(input_size, hidden_size)\n",
    "        self.positional_encoding = PositionalEncoding(hidden_size, dropout)\n",
    "        self.encoder_layers = nn.ModuleList([\n",
    "            EncoderLayer(hidden_size, num_heads, dropout)\n",
    "            for _ in range(num_layers)\n",
    "        ])\n",
    "\n",
    "    def forward(self, input):\n",
    "        embedded_input = self.embedding(input)\n",
    "        scaled_input = embedded_input * torch.sqrt(embedded_input.size(-1))\n",
    "        input_with_position = self.positional_encoding(scaled_input)\n",
    "\n",
    "        output = input_with_position\n",
    "        for encoder_layer in self.encoder_layers:\n",
    "            output = encoder_layer(output)\n",
    "\n",
    "        return output\n",
    "\n",
    "\n",
    "class EncoderLayer(nn.Module):\n",
    "    def __init__(self, hidden_size, num_heads, dropout):\n",
    "        super(EncoderLayer, self).__init__()\n",
    "\n",
    "        self.multihead_attention = MultiHeadAttention(hidden_size, num_heads, dropout)\n",
    "        self.feedforward = FeedForward(hidden_size, dropout)\n",
    "        self.layer_norm1 = nn.LayerNorm(hidden_size)\n",
    "        self.layer_norm2 = nn.LayerNorm(hidden_size)\n",
    "        self.dropout = nn.Dropout(dropout)\n",
    "\n",
    "    def forward(self, input):\n",
    "        attention_output = self.multihead_attention(input, input)\n",
    "        residual1 = input + self.dropout(attention_output)\n",
    "        norm1_output = self.layer_norm1(residual1)\n",
    "\n",
    "        ff_output = self.feedforward(norm1_output)\n",
    "        residual2 = norm1_output + self.dropout(ff_output)\n",
    "        norm2_output = self.layer_norm2(residual2)\n",
    "\n",
    "        return norm2_output\n",
    "\n",
    "\n",
    "class Decoder(nn.Module):\n",
    "    def __init__(self, output_size, hidden_size, num_layers, num_heads, dropout):\n",
    "        super(Decoder, self).__init__()\n",
    "\n",
    "        self.embedding = nn.Embedding(output_size, hidden_size)\n",
    "        self.positional_encoding = PositionalEncoding(hidden_size, dropout)\n",
    "        self.decoder_layers = nn.ModuleList([\n",
    "            DecoderLayer(hidden_size, num_heads, dropout)\n",
    "            for _ in range(num_layers)\n",
    "        ])\n",
    "\n",
    "    def forward(self, target, encoder_output):\n",
    "        embedded_target = self.embedding(target)\n",
    "        scaled_target = embedded_target * torch.sqrt(embedded_target.size(-1))\n",
    "        target_with_position = self.positional_encoding(scaled_target)\n",
    "\n",
    "        output = target_with_position\n",
    "        for decoder_layer in self.decoder_layers:\n",
    "            output = decoder_layer(output, encoder_output)\n",
    "\n",
    "        return output\n",
    "\n",
    "\n",
    "class DecoderLayer(nn.Module):\n",
    "    def __init__(self, hidden_size, num_heads, dropout):\n",
    "        super(DecoderLayer, self).__init__()\n",
    "\n",
    "        self.masked_multihead_attention = MultiHeadAttention(hidden_size, num_heads, dropout)\n",
    "        self.multihead_attention = MultiHeadAttention(hidden_size, num_heads, dropout)\n",
    "        self.feedforward = FeedForward(hidden_size, dropout)\n",
    "        self.layer_norm1 = nn.LayerNorm(hidden_size)\n",
    "        self.layer_norm2 = nn.LayerNorm(hidden_size)\n",
    "        self.layer_norm3 = nn.LayerNorm(hidden_size)\n",
    "        self.dropout = nn.Dropout(dropout)\n",
    "\n",
    "    def forward(self, target, encoder_output):\n",
    "        masked_attention_output = self.masked_multihead_attention(target, target)\n",
    "        residual1 = target + self.dropout(masked_attention_output)\n",
    "        norm1_output = self.layer_norm1(residual1)\n",
    "\n",
    "        attention_output = self.multihead_attention(norm1_output, encoder_output)\n",
    "        residual2 = norm1_output + self.dropout(attention_output)\n",
    "        norm2_output = self.layer_norm2(residual2)\n",
    "\n",
    "        ff_output = self.feedforward(norm2_output)\n",
    "        residual3 = norm2_output + self.dropout(ff_output)\n",
    "        norm3_output = self.layer_norm3(residual3)\n",
    "\n",
    "        return norm3_output\n",
    "\n",
    "\n",
    "class MultiHeadAttention(nn.Module):\n",
    "    def __init__(self, hidden_size, num_heads, dropout):\n",
    "        super(MultiHeadAttention, self).__init__()\n",
    "\n",
    "        self.hidden_size = hidden_size\n",
    "        self.num_heads = num_heads\n",
    "\n",
    "        self.query_linear = nn.Linear(hidden_size, hidden_size)\n",
    "        self.key_linear = nn.Linear(hidden_size, hidden_size)\n",
    "        self.value_linear = nn.Linear(hidden_size, hidden_size)\n",
    "        self.output_linear = nn.Linear(hidden_size, hidden_size)\n",
    "\n",
    "        self.dropout = nn.Dropout(dropout)\n",
    "\n",
    "    def forward(self, query, key):\n",
    "        batch_size = query.size(0)\n",
    "\n",
    "        query_transformed = self.query_linear(query)\n",
    "        key_transformed = self.key_linear(key)\n",
    "        value_transformed = self.value_linear(key)\n",
    "\n",
    "        query_transformed = query_transformed.view(batch_size * self.num_heads, -1, self.hidden_size // self.num_heads).transpose(0, 1)\n",
    "        key_transformed = key_transformed.view(batch_size * self.num_heads, -1, self.hidden_size // self.num_heads).transpose(0, 1)\n",
    "        value_transformed = value_transformed.view(batch_size * self.num_heads, -1, self.hidden_size // self.num_heads).transpose(0, 1)\n",
    "\n",
    "        attention_scores = torch.matmul(query_transformed, key_transformed.transpose(1, 2))\n",
    "        attention_scores = attention_scores / torch.sqrt(torch.tensor(self.hidden_size // self.num_heads, dtype=torch.float32))\n",
    "\n",
    "        attention_probs = nn.functional.softmax(attention_scores, dim=-1)\n",
    "        attention_probs = self.dropout(attention_probs)\n",
    "\n",
    "        context = torch.matmul(attention_probs, value_transformed)\n",
    "        context = context.transpose(0, 1).contiguous().view(batch_size, -1, self.hidden_size)\n",
    "\n",
    "        output = self.output_linear(context)\n",
    "\n",
    "        return output\n",
    "\n",
    "\n",
    "class FeedForward(nn.Module):\n",
    "    def __init__(self, hidden_size, dropout):\n",
    "        super(FeedForward, self).__init__()\n",
    "\n",
    "        self.linear1 = nn.Linear(hidden_size, 4 * hidden_size)\n",
    "        self.linear2 = nn.Linear(4 * hidden_size, hidden_size)\n",
    "        self.dropout = nn.Dropout(dropout)\n",
    "\n",
    "    def forward(self, input):\n",
    "        output = self.linear1(input)\n",
    "        output = torch.relu(output)\n",
    "        output = self.dropout(output)\n",
    "        output = self.linear2(output)\n",
    "\n",
    "        return output\n",
    "\n",
    "\n",
    "class PositionalEncoding(nn.Module):\n",
    "    def __init__(self, hidden_size, dropout, max_length=5000):\n",
    "        super(PositionalEncoding, self).__init__()\n",
    "\n",
    "        self.dropout = nn.Dropout(dropout)\n",
    "\n",
    "        position = torch.arange(0, max_length).unsqueeze(1)\n",
    "        div_term = torch.exp(torch.arange(0, hidden_size, 2) * -(math.log(10000.0) / hidden_size))\n",
    "        pe = torch.zeros(max_length, hidden_size)\n",
    "        pe[:, 0::2] = torch.sin(position * div_term)\n",
    "        pe[:, 1::2] = torch.cos(position * div_term)\n",
    "        pe = pe.unsqueeze(0).transpose(0, 1)\n",
    "\n",
    "        self.register_buffer('pe', pe)\n",
    "\n",
    "    def forward(self, input):\n",
    "        input = input + self.pe[:input.size(0), :]\n",
    "        return self.dropout(input)"
   ]
  },
  {
   "cell_type": "code",
   "execution_count": 2,
   "metadata": {},
   "outputs": [],
   "source": [
    "import torch.nn as nn\n",
    "import math\n",
    "class Embedding(nn.Module):\n",
    "    def __init__(self,num_embeddings,embedding_dim):\n",
    "        self.num_embeddings=num_embeddings\n",
    "        self.embedding_dim=embedding_dim\n",
    "        self.embedding=nn.Embedding(num_embeddings,embedding_dim)\n",
    "    def forward(self,x):\n",
    "        return self.embedding(x)*math.sqrt(self.embedding_dim)"
   ]
  },
  {
   "cell_type": "code",
   "execution_count": 41,
   "metadata": {},
   "outputs": [],
   "source": [
    "import torch\n",
    "import torch.nn as nn\n",
    "\n",
    "class PositionalEncoding(nn.Module):\n",
    "    def __init__(self, embedding_dim,dropout,max_len=5000):\n",
    "        super(PositionalEncoding, self).__init__()\n",
    "        self.embedding_dim = embedding_dim\n",
    "        self.dropout=nn.Dropout(dropout)\n",
    "        \n",
    "        # Create constant 'pe' matrix with shape (max_len, d_model)\n",
    "        pe = torch.zeros(max_len, embedding_dim)\n",
    "        \n",
    "        position = torch.arange(0, max_len, dtype=torch.float).unsqueeze(1)\n",
    "        div_term = torch.exp(torch.arange(0, embedding_dim, 2).float() * -(torch.log(torch.tensor(10000.0)) / embedding_dim))\n",
    "        \n",
    "        pe[:, 0::2] = torch.sin(position * div_term)\n",
    "        pe[:, 1::2] = torch.cos(position * div_term)\n",
    "        \n",
    "        self.register_buffer('pe', pe.unsqueeze(0))\n",
    "        \n",
    "    def forward(self, x):\n",
    "        # Add positional encoding to input tensor\n",
    "        x = x + self.pe[:, :x.size(1)].requires_grad_(False)\n",
    "        return self.dropout(x)"
   ]
  },
  {
   "cell_type": "code",
   "execution_count": null,
   "metadata": {},
   "outputs": [],
   "source": [
    "class EncoderDecoder(nn.Module):\n",
    "    def __init__(self, encoder,decoder,linear,softmax) -> None:\n",
    "        super().__init__(*args, **kwargs)\n",
    "        self.encoder=encoder\n",
    "        self.decoder=decoder\n",
    "        self.linear=nn.Linear()\n",
    "\n",
    "    def forward(self,input,output):\n",
    "        encoded_input=self.encoder(input)\n",
    "        decoder_output=self.decoder(encoded_input,output)\n",
    "        x=self.linear(decoder_output)\n",
    "        return nn.Softmax(x)"
   ]
  },
  {
   "cell_type": "code",
   "execution_count": 52,
   "metadata": {},
   "outputs": [],
   "source": [
    "from torch import nn\n",
    "class FeedForward(nn.Module):\n",
    "    def __init__(self, input_size,output_size) -> None:\n",
    "        super().__init__()\n",
    "        self.l1 = nn.Linear(input_size,5)\n",
    "        self.relu = nn.ReLU()\n",
    "        self.l2 = nn.Linear(5,output_size)\n",
    "\n",
    "    def forward(self,x):\n",
    "        output = self.l1(x) \n",
    "        output = self.relu(output)\n",
    "        output = self.l2(output)\n",
    "        return output"
   ]
  },
  {
   "cell_type": "code",
   "execution_count": null,
   "metadata": {},
   "outputs": [],
   "source": [
    "class encoder_n_multiple(nn.Module):\n",
    "    def __init__(self, *args, **kwargs) -> None:\n",
    "        super().__init__(*args, **kwargs)\n",
    "        self.FeedForward=FeedForward()\n",
    "        self.norm=nn.LayerNorm()\n",
    "        self.MultiHead=MultiHead()\n",
    "    def forward(self,x):\n",
    "        Multihead=self.MultiHead(x,x,x)\n",
    "        x=self.norm(Multihead)+x\n",
    "        x=self.FeedForward(x)\n",
    "        return self.norm(x)+x"
   ]
  },
  {
   "cell_type": "code",
   "execution_count": null,
   "metadata": {},
   "outputs": [],
   "source": [
    "class encoder(nn.Module):\n",
    "    def __init__(self, *args, **kwargs) -> None:\n",
    "        super().__init__(*args, **kwargs)\n",
    "        self.encoder_n_multiple=clone(encoder_n_multiple(),N)\n",
    "        self.embedding=Embedding()\n",
    "        self.psotionaEncdoing=PositionalEncoding\n",
    "    def forward(self,x)\n",
    "        x=self.embedding(x)\n",
    "        x=self.psotionaEncdoing(x)+x\n",
    "        x=self.encoder_n_multiple(x)\n",
    "        return x"
   ]
  },
  {
   "cell_type": "code",
   "execution_count": null,
   "metadata": {},
   "outputs": [],
   "source": [
    "from typing import Dict, Tuple\n",
    "from tqdm import tqdm\n",
    "import torch\n",
    "import torch.nn as nn\n",
    "import torch.nn.functional as F\n",
    "from torch.utils.data import DataLoader\n",
    "from torchvision import models, transforms\n",
    "from torchvision.utils import save_image, make_grid\n",
    "import matplotlib.pyplot as plt\n",
    "from matplotlib.animation import FuncAnimation, PillowWriter\n",
    "import numpy as np\n",
    "from IPython.display import HTML\n",
    "from diffusion_utilities import *\n"
   ]
  },
  {
   "cell_type": "code",
   "execution_count": 1,
   "metadata": {},
   "outputs": [
    {
     "name": "stdout",
     "output_type": "stream",
     "text": [
      "Collecting snowflake-snowpark-python\n",
      "  Downloading snowflake_snowpark_python-1.5.1-py3-none-any.whl (291 kB)\n",
      "Collecting cloudpickle<=2.0.0,>=1.6.0\n",
      "  Downloading cloudpickle-2.0.0-py3-none-any.whl (25 kB)\n",
      "Collecting snowflake-connector-python<4.0.0,>=2.7.12\n",
      "  Downloading snowflake_connector_python-3.0.4-cp39-cp39-win_amd64.whl (10.7 MB)\n",
      "Requirement already satisfied: setuptools>=40.6.0 in c:\\users\\61401\\appdata\\local\\programs\\python\\python39\\lib\\site-packages (from snowflake-snowpark-python) (56.0.0)\n",
      "Requirement already satisfied: typing-extensions<5.0.0,>=4.1.0 in c:\\users\\61401\\appdata\\local\\programs\\python\\python39\\lib\\site-packages (from snowflake-snowpark-python) (4.7.0)\n",
      "Collecting wheel\n",
      "  Downloading wheel-0.40.0-py3-none-any.whl (64 kB)\n",
      "Collecting urllib3<1.27,>=1.21.1\n",
      "  Downloading urllib3-1.26.16-py2.py3-none-any.whl (143 kB)\n",
      "Collecting cryptography<41.0.0,>=3.1.0\n",
      "  Downloading cryptography-40.0.2-cp36-abi3-win_amd64.whl (2.6 MB)\n",
      "Requirement already satisfied: idna<4,>=2.5 in c:\\users\\61401\\appdata\\local\\programs\\python\\python39\\lib\\site-packages (from snowflake-connector-python<4.0.0,>=2.7.12->snowflake-snowpark-python) (3.4)\n",
      "Collecting oscrypto<2.0.0\n",
      "  Downloading oscrypto-1.3.0-py2.py3-none-any.whl (194 kB)\n",
      "Collecting sortedcontainers>=2.4.0\n",
      "  Downloading sortedcontainers-2.4.0-py2.py3-none-any.whl (29 kB)\n",
      "Collecting pyOpenSSL<24.0.0,>=16.2.0\n",
      "  Downloading pyOpenSSL-23.2.0-py3-none-any.whl (59 kB)\n",
      "Requirement already satisfied: requests<3.0.0 in c:\\users\\61401\\appdata\\local\\programs\\python\\python39\\lib\\site-packages (from snowflake-connector-python<4.0.0,>=2.7.12->snowflake-snowpark-python) (2.31.0)\n",
      "Requirement already satisfied: certifi>=2017.4.17 in c:\\users\\61401\\appdata\\local\\programs\\python\\python39\\lib\\site-packages (from snowflake-connector-python<4.0.0,>=2.7.12->snowflake-snowpark-python) (2023.5.7)\n",
      "Requirement already satisfied: packaging in c:\\users\\61401\\appdata\\local\\programs\\python\\python39\\lib\\site-packages (from snowflake-connector-python<4.0.0,>=2.7.12->snowflake-snowpark-python) (23.1)\n",
      "Requirement already satisfied: filelock<4,>=3.5 in c:\\users\\61401\\appdata\\local\\programs\\python\\python39\\lib\\site-packages (from snowflake-connector-python<4.0.0,>=2.7.12->snowflake-snowpark-python) (3.12.2)\n",
      "Requirement already satisfied: pytz in c:\\users\\61401\\appdata\\local\\programs\\python\\python39\\lib\\site-packages (from snowflake-connector-python<4.0.0,>=2.7.12->snowflake-snowpark-python) (2023.3)\n",
      "Collecting cffi<2.0.0,>=1.9\n",
      "  Downloading cffi-1.15.1-cp39-cp39-win_amd64.whl (179 kB)\n",
      "Collecting pyjwt<3.0.0\n",
      "  Downloading PyJWT-2.7.0-py3-none-any.whl (22 kB)\n",
      "Requirement already satisfied: charset-normalizer<4,>=2 in c:\\users\\61401\\appdata\\local\\programs\\python\\python39\\lib\\site-packages (from snowflake-connector-python<4.0.0,>=2.7.12->snowflake-snowpark-python) (3.1.0)\n",
      "Collecting pycryptodomex!=3.5.0,<4.0.0,>=3.2\n",
      "  Downloading pycryptodomex-3.18.0-cp35-abi3-win_amd64.whl (1.7 MB)\n",
      "Collecting asn1crypto<2.0.0,>0.24.0\n",
      "  Downloading asn1crypto-1.5.1-py2.py3-none-any.whl (105 kB)\n",
      "Collecting pycparser\n",
      "  Downloading pycparser-2.21-py2.py3-none-any.whl (118 kB)\n",
      "Installing collected packages: pycparser, cffi, urllib3, cryptography, asn1crypto, sortedcontainers, pyOpenSSL, pyjwt, pycryptodomex, oscrypto, wheel, snowflake-connector-python, cloudpickle, snowflake-snowpark-python\n",
      "  Attempting uninstall: urllib3\n",
      "    Found existing installation: urllib3 2.0.3\n",
      "    Uninstalling urllib3-2.0.3:\n",
      "      Successfully uninstalled urllib3-2.0.3\n",
      "Successfully installed asn1crypto-1.5.1 cffi-1.15.1 cloudpickle-2.0.0 cryptography-40.0.2 oscrypto-1.3.0 pyOpenSSL-23.2.0 pycparser-2.21 pycryptodomex-3.18.0 pyjwt-2.7.0 snowflake-connector-python-3.0.4 snowflake-snowpark-python-1.5.1 sortedcontainers-2.4.0 urllib3-1.26.16 wheel-0.40.0\n",
      "Note: you may need to restart the kernel to use updated packages.\n"
     ]
    },
    {
     "name": "stderr",
     "output_type": "stream",
     "text": [
      "WARNING: You are using pip version 21.1.3; however, version 23.1.2 is available.\n",
      "You should consider upgrading via the 'c:\\Users\\61401\\AppData\\Local\\Programs\\Python\\Python39\\python.exe -m pip install --upgrade pip' command.\n"
     ]
    }
   ],
   "source": [
    "pip install snowflake-snowpark-python"
   ]
  },
  {
   "cell_type": "code",
   "execution_count": 1,
   "metadata": {},
   "outputs": [],
   "source": [
    "from snowflake.snowpark.functions import avg"
   ]
  },
  {
   "cell_type": "code",
   "execution_count": 2,
   "metadata": {},
   "outputs": [],
   "source": [
    "from snowflake.snowpark import Session"
   ]
  },
  {
   "cell_type": "code",
   "execution_count": null,
   "metadata": {},
   "outputs": [],
   "source": [
    "https://vx25867.ap-southeast-2.snowflakecomputing.com"
   ]
  },
  {
   "cell_type": "code",
   "execution_count": 6,
   "metadata": {},
   "outputs": [],
   "source": [
    "connection_parameters = {\n",
    "    \"account\": \"vx25867.ap-southeast-2\",\n",
    "    \"user\": \"RezaHoss\",\n",
    "    \"password\": \"Mohammad1234\",\n",
    "}  \n",
    "\n",
    "new_session = Session.builder.configs(connection_parameters).create()"
   ]
  },
  {
   "cell_type": "code",
   "execution_count": 10,
   "metadata": {},
   "outputs": [],
   "source": [
    "A=new_session.sql('select * from CITIBIKE.PUBLIC.TRIPS limit 10')"
   ]
  },
  {
   "cell_type": "code",
   "execution_count": 12,
   "metadata": {},
   "outputs": [],
   "source": [
    "def double(x:int)->int:\n",
    "    return 2*x"
   ]
  },
  {
   "cell_type": "code",
   "execution_count": 13,
   "metadata": {},
   "outputs": [
    {
     "name": "stdout",
     "output_type": "stream",
     "text": [
      "--------------------------------------------------------------------------------------------------------------------------------------------------------------------------------------------------------------------------------------------------------------------------------------------------------------------------------------------------------------------------------------\n",
      "|\"TRIPDURATION\"  |\"STARTTIME\"                 |\"STOPTIME\"                  |\"START_STATION_ID\"  |\"START_STATION_NAME\"          |\"START_STATION_LATITUDE\"  |\"START_STATION_LONGITUDE\"  |\"END_STATION_ID\"  |\"END_STATION_NAME\"             |\"END_STATION_LATITUDE\"  |\"END_STATION_LONGITUDE\"  |\"BIKEID\"  |\"MEMBERSHIP_TYPE\"                     |\"USERTYPE\"  |\"BIRTH_YEAR\"  |\"GENDER\"  |\n",
      "--------------------------------------------------------------------------------------------------------------------------------------------------------------------------------------------------------------------------------------------------------------------------------------------------------------------------------------------------------------------------------------\n",
      "|512             |2018-06-19 11:29:46.092000  |2018-06-19 11:38:19.013000  |327                 |Vesey Pl & River Terrace      |40.7153379                |-74.01658354               |347               |Greenwich St & W Houston St    |40.728846               |-74.008591               |24964     |Annual Membership from Citi Bike App  |Subscriber  |1974          |2         |\n",
      "|368             |2018-06-19 11:29:47.054000  |2018-06-19 11:35:55.067000  |466                 |W 25 St & 6 Ave               |40.74395411               |-73.99144871               |503               |E 20 St & Park Ave             |40.73827428             |-73.98751968             |32851     |Annual Membership                     |Subscriber  |1983          |1         |\n",
      "|369             |2018-06-19 11:29:47.685000  |2018-06-19 11:35:56.963000  |496                 |E 16 St & 5 Ave               |40.73726186               |-73.99238967               |405               |Washington St & Gansevoort St  |40.739323               |-74.008119               |18495     |Annual Membership                     |Subscriber  |1970          |1         |\n",
      "|484             |2018-06-19 11:29:49.063000  |2018-06-19 11:37:53.262000  |2002                |Wythe Ave & Metropolitan Ave  |40.716887                 |-73.963198                 |3082              |Hope St & Union Ave            |40.71167351             |-73.95141312             |25678     |24 Hour                               |Customer    |1969          |0         |\n",
      "|288             |2018-06-19 11:29:50.635000  |2018-06-19 11:34:39.150000  |258                 |DeKalb Ave & Vanderbilt Ave   |40.68940747               |-73.96885458               |324               |DeKalb Ave & Hudson Ave        |40.689888               |-73.981013               |20800     |Annual Membership                     |Subscriber  |1979          |1         |\n",
      "|1383            |2018-06-19 11:29:51.389000  |2018-06-19 11:52:54.684000  |167                 |E 39 St & 3 Ave               |40.7489006                |-73.97604882               |347               |Greenwich St & W Houston St    |40.728846               |-74.008591               |31601     |$25 Off Annual Membership             |Subscriber  |1983          |2         |\n",
      "|719             |2018-06-19 11:29:54.661000  |2018-06-19 11:41:54.119000  |161                 |LaGuardia Pl & W 3 St         |40.72917025               |-73.99810231               |446               |W 24 St & 7 Ave                |40.74487634             |-73.99529885             |33090     |Annual Membership                     |Subscriber  |1964          |1         |\n",
      "|161             |2018-06-19 11:29:56.274000  |2018-06-19 11:32:37.860000  |3235                |E 41 St & Madison Ave         |40.752165281              |-73.979921937              |519               |Pershing Square North          |40.751873               |-73.977706               |30999     |$25 Off Annual Membership             |Subscriber  |1992          |1         |\n",
      "|1406            |2018-06-19 11:29:57.836000  |2018-06-19 11:53:24.657000  |3165                |Central Park West & W 72 St   |40.775793767              |-73.976205736              |3165              |Central Park West & W 72 St    |40.775793767            |-73.976205736            |27364     |24 Hour                               |Customer    |1969          |0         |\n",
      "|1661            |2018-06-19 11:29:59.916000  |2018-06-19 11:57:41.725000  |2002                |Wythe Ave & Metropolitan Ave  |40.716887                 |-73.963198                 |3056              |Kosciuszko St & Nostrand Ave   |40.69072549             |-73.95133465             |27415     |24 Hour                               |Customer    |1969          |0         |\n",
      "--------------------------------------------------------------------------------------------------------------------------------------------------------------------------------------------------------------------------------------------------------------------------------------------------------------------------------------------------------------------------------------\n",
      "\n"
     ]
    }
   ],
   "source": [
    "A.show()"
   ]
  },
  {
   "cell_type": "code",
   "execution_count": 7,
   "metadata": {},
   "outputs": [],
   "source": [
    "import snowflake.snowpark as snowpark\n",
    "from snowflake.snowpark.functions import col\n",
    "\n",
    "def main(session: new_session): \n",
    "    # Your code goes here, inside the \"main\" handler.\n",
    "    tableName = 'information_schema.packages'\n",
    "    dataframe = session.table(tableName).filter(col(\"language\") == 'python')\n",
    "\n",
    "    # Print a sample of the dataframe to standard output.\n",
    "    dataframe.show()\n",
    "\n",
    "    # Return value will appear in the Results tab.\n",
    "    return dataframe"
   ]
  },
  {
   "cell_type": "code",
   "execution_count": 8,
   "metadata": {},
   "outputs": [
    {
     "ename": "SnowparkSQLException",
     "evalue": "(1304): 01ad9199-3201-8305-0001-4c3a0002d03a: 090105 (22000): Cannot perform SELECT. This session does not have a current database. Call 'USE DATABASE', or use a qualified name.",
     "output_type": "error",
     "traceback": [
      "\u001b[1;31m---------------------------------------------------------------------------\u001b[0m",
      "\u001b[1;31mSnowparkSQLException\u001b[0m                      Traceback (most recent call last)",
      "\u001b[1;32m~\\AppData\\Local\\Temp/ipykernel_24432/2033639441.py\u001b[0m in \u001b[0;36m<module>\u001b[1;34m\u001b[0m\n\u001b[1;32m----> 1\u001b[1;33m \u001b[0mmain\u001b[0m\u001b[1;33m(\u001b[0m\u001b[0mnew_session\u001b[0m\u001b[1;33m)\u001b[0m\u001b[1;33m\u001b[0m\u001b[1;33m\u001b[0m\u001b[0m\n\u001b[0m",
      "\u001b[1;32m~\\AppData\\Local\\Temp/ipykernel_24432/1582262392.py\u001b[0m in \u001b[0;36mmain\u001b[1;34m(session)\u001b[0m\n\u001b[0;32m      5\u001b[0m     \u001b[1;31m# Your code goes here, inside the \"main\" handler.\u001b[0m\u001b[1;33m\u001b[0m\u001b[1;33m\u001b[0m\u001b[1;33m\u001b[0m\u001b[0m\n\u001b[0;32m      6\u001b[0m     \u001b[0mtableName\u001b[0m \u001b[1;33m=\u001b[0m \u001b[1;34m'information_schema.packages'\u001b[0m\u001b[1;33m\u001b[0m\u001b[1;33m\u001b[0m\u001b[0m\n\u001b[1;32m----> 7\u001b[1;33m     \u001b[0mdataframe\u001b[0m \u001b[1;33m=\u001b[0m \u001b[0msession\u001b[0m\u001b[1;33m.\u001b[0m\u001b[0mtable\u001b[0m\u001b[1;33m(\u001b[0m\u001b[0mtableName\u001b[0m\u001b[1;33m)\u001b[0m\u001b[1;33m.\u001b[0m\u001b[0mfilter\u001b[0m\u001b[1;33m(\u001b[0m\u001b[0mcol\u001b[0m\u001b[1;33m(\u001b[0m\u001b[1;34m\"language\"\u001b[0m\u001b[1;33m)\u001b[0m \u001b[1;33m==\u001b[0m \u001b[1;34m'python'\u001b[0m\u001b[1;33m)\u001b[0m\u001b[1;33m\u001b[0m\u001b[1;33m\u001b[0m\u001b[0m\n\u001b[0m\u001b[0;32m      8\u001b[0m \u001b[1;33m\u001b[0m\u001b[0m\n\u001b[0;32m      9\u001b[0m     \u001b[1;31m# Print a sample of the dataframe to standard output.\u001b[0m\u001b[1;33m\u001b[0m\u001b[1;33m\u001b[0m\u001b[1;33m\u001b[0m\u001b[0m\n",
      "\u001b[1;32mc:\\Users\\61401\\AppData\\Local\\Programs\\Python\\Python39\\lib\\site-packages\\snowflake\\snowpark\\_internal\\telemetry.py\u001b[0m in \u001b[0;36mwrap\u001b[1;34m(*args, **kwargs)\u001b[0m\n\u001b[0;32m    182\u001b[0m     \u001b[1;33m@\u001b[0m\u001b[0mfunctools\u001b[0m\u001b[1;33m.\u001b[0m\u001b[0mwraps\u001b[0m\u001b[1;33m(\u001b[0m\u001b[0mfunc\u001b[0m\u001b[1;33m)\u001b[0m\u001b[1;33m\u001b[0m\u001b[1;33m\u001b[0m\u001b[0m\n\u001b[0;32m    183\u001b[0m     \u001b[1;32mdef\u001b[0m \u001b[0mwrap\u001b[0m\u001b[1;33m(\u001b[0m\u001b[1;33m*\u001b[0m\u001b[0margs\u001b[0m\u001b[1;33m,\u001b[0m \u001b[1;33m**\u001b[0m\u001b[0mkwargs\u001b[0m\u001b[1;33m)\u001b[0m\u001b[1;33m:\u001b[0m\u001b[1;33m\u001b[0m\u001b[1;33m\u001b[0m\u001b[0m\n\u001b[1;32m--> 184\u001b[1;33m         \u001b[0mr\u001b[0m \u001b[1;33m=\u001b[0m \u001b[0mfunc\u001b[0m\u001b[1;33m(\u001b[0m\u001b[1;33m*\u001b[0m\u001b[0margs\u001b[0m\u001b[1;33m,\u001b[0m \u001b[1;33m**\u001b[0m\u001b[0mkwargs\u001b[0m\u001b[1;33m)\u001b[0m\u001b[1;33m\u001b[0m\u001b[1;33m\u001b[0m\u001b[0m\n\u001b[0m\u001b[0;32m    185\u001b[0m         \u001b[0mplan\u001b[0m \u001b[1;33m=\u001b[0m \u001b[0mr\u001b[0m\u001b[1;33m.\u001b[0m\u001b[0m_select_statement\u001b[0m \u001b[1;32mor\u001b[0m \u001b[0mr\u001b[0m\u001b[1;33m.\u001b[0m\u001b[0m_plan\u001b[0m\u001b[1;33m\u001b[0m\u001b[1;33m\u001b[0m\u001b[0m\n\u001b[0;32m    186\u001b[0m         \u001b[1;31m# Some DataFrame APIs call other DataFrame APIs, so we need to remove the extra call\u001b[0m\u001b[1;33m\u001b[0m\u001b[1;33m\u001b[0m\u001b[1;33m\u001b[0m\u001b[0m\n",
      "\u001b[1;32mc:\\Users\\61401\\AppData\\Local\\Programs\\Python\\Python39\\lib\\site-packages\\snowflake\\snowpark\\dataframe.py\u001b[0m in \u001b[0;36mfilter\u001b[1;34m(self, expr)\u001b[0m\n\u001b[0;32m   1164\u001b[0m         \u001b[1;32mif\u001b[0m \u001b[0mself\u001b[0m\u001b[1;33m.\u001b[0m\u001b[0m_select_statement\u001b[0m\u001b[1;33m:\u001b[0m\u001b[1;33m\u001b[0m\u001b[1;33m\u001b[0m\u001b[0m\n\u001b[0;32m   1165\u001b[0m             return self._with_plan(\n\u001b[1;32m-> 1166\u001b[1;33m                 self._select_statement.filter(\n\u001b[0m\u001b[0;32m   1167\u001b[0m                     \u001b[0m_to_col_if_sql_expr\u001b[0m\u001b[1;33m(\u001b[0m\u001b[0mexpr\u001b[0m\u001b[1;33m,\u001b[0m \u001b[1;34m\"filter/where\"\u001b[0m\u001b[1;33m)\u001b[0m\u001b[1;33m.\u001b[0m\u001b[0m_expression\u001b[0m\u001b[1;33m\u001b[0m\u001b[1;33m\u001b[0m\u001b[0m\n\u001b[0;32m   1168\u001b[0m                 )\n",
      "\u001b[1;32mc:\\Users\\61401\\AppData\\Local\\Programs\\Python\\Python39\\lib\\site-packages\\snowflake\\snowpark\\_internal\\analyzer\\select_statement.py\u001b[0m in \u001b[0;36mfilter\u001b[1;34m(self, col)\u001b[0m\n\u001b[0;32m    634\u001b[0m             \u001b[1;32mnot\u001b[0m \u001b[0mself\u001b[0m\u001b[1;33m.\u001b[0m\u001b[0mflatten_disabled\u001b[0m\u001b[1;33m\u001b[0m\u001b[1;33m\u001b[0m\u001b[0m\n\u001b[0;32m    635\u001b[0m         \u001b[1;33m)\u001b[0m \u001b[1;32mand\u001b[0m \u001b[0mcan_clause_dependent_columns_flatten\u001b[0m\u001b[1;33m(\u001b[0m\u001b[1;33m\u001b[0m\u001b[1;33m\u001b[0m\u001b[0m\n\u001b[1;32m--> 636\u001b[1;33m             \u001b[0mderive_dependent_columns\u001b[0m\u001b[1;33m(\u001b[0m\u001b[0mcol\u001b[0m\u001b[1;33m)\u001b[0m\u001b[1;33m,\u001b[0m \u001b[0mself\u001b[0m\u001b[1;33m.\u001b[0m\u001b[0mcolumn_states\u001b[0m\u001b[1;33m\u001b[0m\u001b[1;33m\u001b[0m\u001b[0m\n\u001b[0m\u001b[0;32m    637\u001b[0m         )\n\u001b[0;32m    638\u001b[0m         \u001b[1;32mif\u001b[0m \u001b[0mcan_be_flattened\u001b[0m\u001b[1;33m:\u001b[0m\u001b[1;33m\u001b[0m\u001b[1;33m\u001b[0m\u001b[0m\n",
      "\u001b[1;32mc:\\Users\\61401\\AppData\\Local\\Programs\\Python\\Python39\\lib\\site-packages\\snowflake\\snowpark\\_internal\\analyzer\\select_statement.py\u001b[0m in \u001b[0;36mcolumn_states\u001b[1;34m(self)\u001b[0m\n\u001b[0;32m    443\u001b[0m         \u001b[1;32mif\u001b[0m \u001b[0mself\u001b[0m\u001b[1;33m.\u001b[0m\u001b[0m_column_states\u001b[0m \u001b[1;32mis\u001b[0m \u001b[1;32mNone\u001b[0m\u001b[1;33m:\u001b[0m\u001b[1;33m\u001b[0m\u001b[1;33m\u001b[0m\u001b[0m\n\u001b[0;32m    444\u001b[0m             \u001b[1;32mif\u001b[0m \u001b[1;32mnot\u001b[0m \u001b[0mself\u001b[0m\u001b[1;33m.\u001b[0m\u001b[0mprojection\u001b[0m \u001b[1;32mand\u001b[0m \u001b[1;32mnot\u001b[0m \u001b[0mself\u001b[0m\u001b[1;33m.\u001b[0m\u001b[0mhas_clause\u001b[0m\u001b[1;33m:\u001b[0m\u001b[1;33m\u001b[0m\u001b[1;33m\u001b[0m\u001b[0m\n\u001b[1;32m--> 445\u001b[1;33m                 \u001b[0mself\u001b[0m\u001b[1;33m.\u001b[0m\u001b[0m_column_states\u001b[0m \u001b[1;33m=\u001b[0m \u001b[0mself\u001b[0m\u001b[1;33m.\u001b[0m\u001b[0mfrom_\u001b[0m\u001b[1;33m.\u001b[0m\u001b[0mcolumn_states\u001b[0m\u001b[1;33m\u001b[0m\u001b[1;33m\u001b[0m\u001b[0m\n\u001b[0m\u001b[0;32m    446\u001b[0m             \u001b[1;32melse\u001b[0m\u001b[1;33m:\u001b[0m\u001b[1;33m\u001b[0m\u001b[1;33m\u001b[0m\u001b[0m\n\u001b[0;32m    447\u001b[0m                 \u001b[0msuper\u001b[0m\u001b[1;33m(\u001b[0m\u001b[1;33m)\u001b[0m\u001b[1;33m.\u001b[0m\u001b[0mcolumn_states\u001b[0m  \u001b[1;31m# will assign value to self._column_states\u001b[0m\u001b[1;33m\u001b[0m\u001b[1;33m\u001b[0m\u001b[0m\n",
      "\u001b[1;32mc:\\Users\\61401\\AppData\\Local\\Programs\\Python\\Python39\\lib\\site-packages\\snowflake\\snowpark\\_internal\\analyzer\\select_statement.py\u001b[0m in \u001b[0;36mcolumn_states\u001b[1;34m(self)\u001b[0m\n\u001b[0;32m    245\u001b[0m         \u001b[1;32mif\u001b[0m \u001b[0mself\u001b[0m\u001b[1;33m.\u001b[0m\u001b[0m_column_states\u001b[0m \u001b[1;32mis\u001b[0m \u001b[1;32mNone\u001b[0m\u001b[1;33m:\u001b[0m\u001b[1;33m\u001b[0m\u001b[1;33m\u001b[0m\u001b[0m\n\u001b[0;32m    246\u001b[0m             self._column_states = initiate_column_states(\n\u001b[1;32m--> 247\u001b[1;33m                 \u001b[0mself\u001b[0m\u001b[1;33m.\u001b[0m\u001b[0msnowflake_plan\u001b[0m\u001b[1;33m.\u001b[0m\u001b[0mattributes\u001b[0m\u001b[1;33m,\u001b[0m\u001b[1;33m\u001b[0m\u001b[1;33m\u001b[0m\u001b[0m\n\u001b[0m\u001b[0;32m    248\u001b[0m                 \u001b[0mself\u001b[0m\u001b[1;33m.\u001b[0m\u001b[0manalyzer\u001b[0m\u001b[1;33m,\u001b[0m\u001b[1;33m\u001b[0m\u001b[1;33m\u001b[0m\u001b[0m\n\u001b[0;32m    249\u001b[0m                 \u001b[0mself\u001b[0m\u001b[1;33m.\u001b[0m\u001b[0mdf_aliased_col_name_to_real_col_name\u001b[0m\u001b[1;33m,\u001b[0m\u001b[1;33m\u001b[0m\u001b[1;33m\u001b[0m\u001b[0m\n",
      "\u001b[1;32mc:\\Users\\61401\\AppData\\Local\\Programs\\Python\\Python39\\lib\\functools.py\u001b[0m in \u001b[0;36m__get__\u001b[1;34m(self, instance, owner)\u001b[0m\n\u001b[0;32m    967\u001b[0m                 \u001b[0mval\u001b[0m \u001b[1;33m=\u001b[0m \u001b[0mcache\u001b[0m\u001b[1;33m.\u001b[0m\u001b[0mget\u001b[0m\u001b[1;33m(\u001b[0m\u001b[0mself\u001b[0m\u001b[1;33m.\u001b[0m\u001b[0mattrname\u001b[0m\u001b[1;33m,\u001b[0m \u001b[0m_NOT_FOUND\u001b[0m\u001b[1;33m)\u001b[0m\u001b[1;33m\u001b[0m\u001b[1;33m\u001b[0m\u001b[0m\n\u001b[0;32m    968\u001b[0m                 \u001b[1;32mif\u001b[0m \u001b[0mval\u001b[0m \u001b[1;32mis\u001b[0m \u001b[0m_NOT_FOUND\u001b[0m\u001b[1;33m:\u001b[0m\u001b[1;33m\u001b[0m\u001b[1;33m\u001b[0m\u001b[0m\n\u001b[1;32m--> 969\u001b[1;33m                     \u001b[0mval\u001b[0m \u001b[1;33m=\u001b[0m \u001b[0mself\u001b[0m\u001b[1;33m.\u001b[0m\u001b[0mfunc\u001b[0m\u001b[1;33m(\u001b[0m\u001b[0minstance\u001b[0m\u001b[1;33m)\u001b[0m\u001b[1;33m\u001b[0m\u001b[1;33m\u001b[0m\u001b[0m\n\u001b[0m\u001b[0;32m    970\u001b[0m                     \u001b[1;32mtry\u001b[0m\u001b[1;33m:\u001b[0m\u001b[1;33m\u001b[0m\u001b[1;33m\u001b[0m\u001b[0m\n\u001b[0;32m    971\u001b[0m                         \u001b[0mcache\u001b[0m\u001b[1;33m[\u001b[0m\u001b[0mself\u001b[0m\u001b[1;33m.\u001b[0m\u001b[0mattrname\u001b[0m\u001b[1;33m]\u001b[0m \u001b[1;33m=\u001b[0m \u001b[0mval\u001b[0m\u001b[1;33m\u001b[0m\u001b[1;33m\u001b[0m\u001b[0m\n",
      "\u001b[1;32mc:\\Users\\61401\\AppData\\Local\\Programs\\Python\\Python39\\lib\\site-packages\\snowflake\\snowpark\\_internal\\analyzer\\snowflake_plan.py\u001b[0m in \u001b[0;36mattributes\u001b[1;34m(self)\u001b[0m\n\u001b[0;32m    247\u001b[0m     \u001b[1;33m@\u001b[0m\u001b[0mcached_property\u001b[0m\u001b[1;33m\u001b[0m\u001b[1;33m\u001b[0m\u001b[0m\n\u001b[0;32m    248\u001b[0m     \u001b[1;32mdef\u001b[0m \u001b[0mattributes\u001b[0m\u001b[1;33m(\u001b[0m\u001b[0mself\u001b[0m\u001b[1;33m)\u001b[0m \u001b[1;33m->\u001b[0m \u001b[0mList\u001b[0m\u001b[1;33m[\u001b[0m\u001b[0mAttribute\u001b[0m\u001b[1;33m]\u001b[0m\u001b[1;33m:\u001b[0m\u001b[1;33m\u001b[0m\u001b[1;33m\u001b[0m\u001b[0m\n\u001b[1;32m--> 249\u001b[1;33m         \u001b[0moutput\u001b[0m \u001b[1;33m=\u001b[0m \u001b[0manalyze_attributes\u001b[0m\u001b[1;33m(\u001b[0m\u001b[0mself\u001b[0m\u001b[1;33m.\u001b[0m\u001b[0mschema_query\u001b[0m\u001b[1;33m,\u001b[0m \u001b[0mself\u001b[0m\u001b[1;33m.\u001b[0m\u001b[0msession\u001b[0m\u001b[1;33m)\u001b[0m\u001b[1;33m\u001b[0m\u001b[1;33m\u001b[0m\u001b[0m\n\u001b[0m\u001b[0;32m    250\u001b[0m         \u001b[0mself\u001b[0m\u001b[1;33m.\u001b[0m\u001b[0mschema_query\u001b[0m \u001b[1;33m=\u001b[0m \u001b[0mschema_value_statement\u001b[0m\u001b[1;33m(\u001b[0m\u001b[0moutput\u001b[0m\u001b[1;33m)\u001b[0m\u001b[1;33m\u001b[0m\u001b[1;33m\u001b[0m\u001b[0m\n\u001b[0;32m    251\u001b[0m         \u001b[1;32mreturn\u001b[0m \u001b[0moutput\u001b[0m\u001b[1;33m\u001b[0m\u001b[1;33m\u001b[0m\u001b[0m\n",
      "\u001b[1;32mc:\\Users\\61401\\AppData\\Local\\Programs\\Python\\Python39\\lib\\site-packages\\snowflake\\snowpark\\_internal\\analyzer\\schema_utils.py\u001b[0m in \u001b[0;36manalyze_attributes\u001b[1;34m(sql, session)\u001b[0m\n\u001b[0;32m     80\u001b[0m         \u001b[1;32mreturn\u001b[0m \u001b[0mconvert_result_meta_to_attribute\u001b[0m\u001b[1;33m(\u001b[0m\u001b[0msession\u001b[0m\u001b[1;33m.\u001b[0m\u001b[0m_conn\u001b[0m\u001b[1;33m.\u001b[0m\u001b[0m_cursor\u001b[0m\u001b[1;33m.\u001b[0m\u001b[0mdescription\u001b[0m\u001b[1;33m)\u001b[0m\u001b[1;33m\u001b[0m\u001b[1;33m\u001b[0m\u001b[0m\n\u001b[0;32m     81\u001b[0m \u001b[1;33m\u001b[0m\u001b[0m\n\u001b[1;32m---> 82\u001b[1;33m     \u001b[1;32mreturn\u001b[0m \u001b[0msession\u001b[0m\u001b[1;33m.\u001b[0m\u001b[0m_get_result_attributes\u001b[0m\u001b[1;33m(\u001b[0m\u001b[0msql\u001b[0m\u001b[1;33m)\u001b[0m\u001b[1;33m\u001b[0m\u001b[1;33m\u001b[0m\u001b[0m\n\u001b[0m\u001b[0;32m     83\u001b[0m \u001b[1;33m\u001b[0m\u001b[0m\n\u001b[0;32m     84\u001b[0m \u001b[1;33m\u001b[0m\u001b[0m\n",
      "\u001b[1;32mc:\\Users\\61401\\AppData\\Local\\Programs\\Python\\Python39\\lib\\site-packages\\snowflake\\snowpark\\session.py\u001b[0m in \u001b[0;36m_get_result_attributes\u001b[1;34m(self, query)\u001b[0m\n\u001b[0;32m   1245\u001b[0m \u001b[1;33m\u001b[0m\u001b[0m\n\u001b[0;32m   1246\u001b[0m     \u001b[1;32mdef\u001b[0m \u001b[0m_get_result_attributes\u001b[0m\u001b[1;33m(\u001b[0m\u001b[0mself\u001b[0m\u001b[1;33m,\u001b[0m \u001b[0mquery\u001b[0m\u001b[1;33m:\u001b[0m \u001b[0mstr\u001b[0m\u001b[1;33m)\u001b[0m \u001b[1;33m->\u001b[0m \u001b[0mList\u001b[0m\u001b[1;33m[\u001b[0m\u001b[0mAttribute\u001b[0m\u001b[1;33m]\u001b[0m\u001b[1;33m:\u001b[0m\u001b[1;33m\u001b[0m\u001b[1;33m\u001b[0m\u001b[0m\n\u001b[1;32m-> 1247\u001b[1;33m         \u001b[1;32mreturn\u001b[0m \u001b[0mself\u001b[0m\u001b[1;33m.\u001b[0m\u001b[0m_conn\u001b[0m\u001b[1;33m.\u001b[0m\u001b[0mget_result_attributes\u001b[0m\u001b[1;33m(\u001b[0m\u001b[0mquery\u001b[0m\u001b[1;33m)\u001b[0m\u001b[1;33m\u001b[0m\u001b[1;33m\u001b[0m\u001b[0m\n\u001b[0m\u001b[0;32m   1248\u001b[0m \u001b[1;33m\u001b[0m\u001b[0m\n\u001b[0;32m   1249\u001b[0m     \u001b[1;32mdef\u001b[0m \u001b[0mget_session_stage\u001b[0m\u001b[1;33m(\u001b[0m\u001b[0mself\u001b[0m\u001b[1;33m)\u001b[0m \u001b[1;33m->\u001b[0m \u001b[0mstr\u001b[0m\u001b[1;33m:\u001b[0m\u001b[1;33m\u001b[0m\u001b[1;33m\u001b[0m\u001b[0m\n",
      "\u001b[1;32mc:\\Users\\61401\\AppData\\Local\\Programs\\Python\\Python39\\lib\\site-packages\\snowflake\\snowpark\\_internal\\analyzer\\snowflake_plan.py\u001b[0m in \u001b[0;36mwrap\u001b[1;34m(*args, **kwargs)\u001b[0m\n\u001b[0;32m    178\u001b[0m                             \u001b[0me\u001b[0m\u001b[1;33m\u001b[0m\u001b[1;33m\u001b[0m\u001b[0m\n\u001b[0;32m    179\u001b[0m                         )\n\u001b[1;32m--> 180\u001b[1;33m                         \u001b[1;32mraise\u001b[0m \u001b[0mne\u001b[0m\u001b[1;33m.\u001b[0m\u001b[0mwith_traceback\u001b[0m\u001b[1;33m(\u001b[0m\u001b[0mtb\u001b[0m\u001b[1;33m)\u001b[0m \u001b[1;32mfrom\u001b[0m \u001b[1;32mNone\u001b[0m\u001b[1;33m\u001b[0m\u001b[1;33m\u001b[0m\u001b[0m\n\u001b[0m\u001b[0;32m    181\u001b[0m \u001b[1;33m\u001b[0m\u001b[0m\n\u001b[0;32m    182\u001b[0m             \u001b[1;32mreturn\u001b[0m \u001b[0mwrap\u001b[0m\u001b[1;33m\u001b[0m\u001b[1;33m\u001b[0m\u001b[0m\n",
      "\u001b[1;32mc:\\Users\\61401\\AppData\\Local\\Programs\\Python\\Python39\\lib\\site-packages\\snowflake\\snowpark\\_internal\\analyzer\\snowflake_plan.py\u001b[0m in \u001b[0;36mwrap\u001b[1;34m(*args, **kwargs)\u001b[0m\n\u001b[0;32m    108\u001b[0m             \u001b[1;32mdef\u001b[0m \u001b[0mwrap\u001b[0m\u001b[1;33m(\u001b[0m\u001b[1;33m*\u001b[0m\u001b[0margs\u001b[0m\u001b[1;33m,\u001b[0m \u001b[1;33m**\u001b[0m\u001b[0mkwargs\u001b[0m\u001b[1;33m)\u001b[0m\u001b[1;33m:\u001b[0m\u001b[1;33m\u001b[0m\u001b[1;33m\u001b[0m\u001b[0m\n\u001b[0;32m    109\u001b[0m                 \u001b[1;32mtry\u001b[0m\u001b[1;33m:\u001b[0m\u001b[1;33m\u001b[0m\u001b[1;33m\u001b[0m\u001b[0m\n\u001b[1;32m--> 110\u001b[1;33m                     \u001b[1;32mreturn\u001b[0m \u001b[0mfunc\u001b[0m\u001b[1;33m(\u001b[0m\u001b[1;33m*\u001b[0m\u001b[0margs\u001b[0m\u001b[1;33m,\u001b[0m \u001b[1;33m**\u001b[0m\u001b[0mkwargs\u001b[0m\u001b[1;33m)\u001b[0m\u001b[1;33m\u001b[0m\u001b[1;33m\u001b[0m\u001b[0m\n\u001b[0m\u001b[0;32m    111\u001b[0m                 \u001b[1;32mexcept\u001b[0m \u001b[0msnowflake\u001b[0m\u001b[1;33m.\u001b[0m\u001b[0mconnector\u001b[0m\u001b[1;33m.\u001b[0m\u001b[0merrors\u001b[0m\u001b[1;33m.\u001b[0m\u001b[0mProgrammingError\u001b[0m \u001b[1;32mas\u001b[0m \u001b[0me\u001b[0m\u001b[1;33m:\u001b[0m\u001b[1;33m\u001b[0m\u001b[1;33m\u001b[0m\u001b[0m\n\u001b[0;32m    112\u001b[0m                     \u001b[0mquery\u001b[0m \u001b[1;33m=\u001b[0m \u001b[1;32mNone\u001b[0m\u001b[1;33m\u001b[0m\u001b[1;33m\u001b[0m\u001b[0m\n",
      "\u001b[1;32mc:\\Users\\61401\\AppData\\Local\\Programs\\Python\\Python39\\lib\\site-packages\\snowflake\\snowpark\\_internal\\server_connection.py\u001b[0m in \u001b[0;36mget_result_attributes\u001b[1;34m(self, query)\u001b[0m\n\u001b[0;32m    204\u001b[0m     \u001b[1;33m@\u001b[0m\u001b[0mSnowflakePlan\u001b[0m\u001b[1;33m.\u001b[0m\u001b[0mDecorator\u001b[0m\u001b[1;33m.\u001b[0m\u001b[0mwrap_exception\u001b[0m\u001b[1;33m\u001b[0m\u001b[1;33m\u001b[0m\u001b[0m\n\u001b[0;32m    205\u001b[0m     \u001b[1;32mdef\u001b[0m \u001b[0mget_result_attributes\u001b[0m\u001b[1;33m(\u001b[0m\u001b[0mself\u001b[0m\u001b[1;33m,\u001b[0m \u001b[0mquery\u001b[0m\u001b[1;33m:\u001b[0m \u001b[0mstr\u001b[0m\u001b[1;33m)\u001b[0m \u001b[1;33m->\u001b[0m \u001b[0mList\u001b[0m\u001b[1;33m[\u001b[0m\u001b[0mAttribute\u001b[0m\u001b[1;33m]\u001b[0m\u001b[1;33m:\u001b[0m\u001b[1;33m\u001b[0m\u001b[1;33m\u001b[0m\u001b[0m\n\u001b[1;32m--> 206\u001b[1;33m         \u001b[1;32mreturn\u001b[0m \u001b[0mconvert_result_meta_to_attribute\u001b[0m\u001b[1;33m(\u001b[0m\u001b[0mself\u001b[0m\u001b[1;33m.\u001b[0m\u001b[0m_cursor\u001b[0m\u001b[1;33m.\u001b[0m\u001b[0mdescribe\u001b[0m\u001b[1;33m(\u001b[0m\u001b[0mquery\u001b[0m\u001b[1;33m)\u001b[0m\u001b[1;33m)\u001b[0m\u001b[1;33m\u001b[0m\u001b[1;33m\u001b[0m\u001b[0m\n\u001b[0m\u001b[0;32m    207\u001b[0m \u001b[1;33m\u001b[0m\u001b[0m\n\u001b[0;32m    208\u001b[0m     \u001b[1;33m@\u001b[0m\u001b[0m_Decorator\u001b[0m\u001b[1;33m.\u001b[0m\u001b[0mlog_msg_and_perf_telemetry\u001b[0m\u001b[1;33m(\u001b[0m\u001b[1;34m\"Uploading file to stage\"\u001b[0m\u001b[1;33m)\u001b[0m\u001b[1;33m\u001b[0m\u001b[1;33m\u001b[0m\u001b[0m\n",
      "\u001b[1;32mc:\\Users\\61401\\AppData\\Local\\Programs\\Python\\Python39\\lib\\site-packages\\snowflake\\connector\\cursor.py\u001b[0m in \u001b[0;36mdescribe\u001b[1;34m(self, *args, **kwargs)\u001b[0m\n\u001b[0;32m    930\u001b[0m         \"\"\"\n\u001b[0;32m    931\u001b[0m         \u001b[0mkwargs\u001b[0m\u001b[1;33m[\u001b[0m\u001b[1;34m\"_describe_only\"\u001b[0m\u001b[1;33m]\u001b[0m \u001b[1;33m=\u001b[0m \u001b[0mkwargs\u001b[0m\u001b[1;33m[\u001b[0m\u001b[1;34m\"_is_internal\"\u001b[0m\u001b[1;33m]\u001b[0m \u001b[1;33m=\u001b[0m \u001b[1;32mTrue\u001b[0m\u001b[1;33m\u001b[0m\u001b[1;33m\u001b[0m\u001b[0m\n\u001b[1;32m--> 932\u001b[1;33m         \u001b[0mself\u001b[0m\u001b[1;33m.\u001b[0m\u001b[0mexecute\u001b[0m\u001b[1;33m(\u001b[0m\u001b[1;33m*\u001b[0m\u001b[0margs\u001b[0m\u001b[1;33m,\u001b[0m \u001b[1;33m**\u001b[0m\u001b[0mkwargs\u001b[0m\u001b[1;33m)\u001b[0m\u001b[1;33m\u001b[0m\u001b[1;33m\u001b[0m\u001b[0m\n\u001b[0m\u001b[0;32m    933\u001b[0m         \u001b[1;32mreturn\u001b[0m \u001b[0mself\u001b[0m\u001b[1;33m.\u001b[0m\u001b[0m_description\u001b[0m\u001b[1;33m\u001b[0m\u001b[1;33m\u001b[0m\u001b[0m\n\u001b[0;32m    934\u001b[0m \u001b[1;33m\u001b[0m\u001b[0m\n",
      "\u001b[1;32mc:\\Users\\61401\\AppData\\Local\\Programs\\Python\\Python39\\lib\\site-packages\\snowflake\\connector\\cursor.py\u001b[0m in \u001b[0;36mexecute\u001b[1;34m(self, command, params, _bind_stage, timeout, _exec_async, _no_retry, _do_reset, _put_callback, _put_azure_callback, _put_callback_output_stream, _get_callback, _get_azure_callback, _get_callback_output_stream, _show_progress_bar, _statement_params, _is_internal, _describe_only, _no_results, _is_put_get, _raise_put_get_error, _force_put_overwrite, _skip_upload_on_content_match, file_stream, num_statements)\u001b[0m\n\u001b[0;32m    908\u001b[0m             )  # NULL result in a non-nullable column\n\u001b[0;32m    909\u001b[0m             \u001b[0merror_class\u001b[0m \u001b[1;33m=\u001b[0m \u001b[0mIntegrityError\u001b[0m \u001b[1;32mif\u001b[0m \u001b[0mis_integrity_error\u001b[0m \u001b[1;32melse\u001b[0m \u001b[0mProgrammingError\u001b[0m\u001b[1;33m\u001b[0m\u001b[1;33m\u001b[0m\u001b[0m\n\u001b[1;32m--> 910\u001b[1;33m             \u001b[0mError\u001b[0m\u001b[1;33m.\u001b[0m\u001b[0merrorhandler_wrapper\u001b[0m\u001b[1;33m(\u001b[0m\u001b[0mself\u001b[0m\u001b[1;33m.\u001b[0m\u001b[0mconnection\u001b[0m\u001b[1;33m,\u001b[0m \u001b[0mself\u001b[0m\u001b[1;33m,\u001b[0m \u001b[0merror_class\u001b[0m\u001b[1;33m,\u001b[0m \u001b[0merrvalue\u001b[0m\u001b[1;33m)\u001b[0m\u001b[1;33m\u001b[0m\u001b[1;33m\u001b[0m\u001b[0m\n\u001b[0m\u001b[0;32m    911\u001b[0m         \u001b[1;32mreturn\u001b[0m \u001b[0mself\u001b[0m\u001b[1;33m\u001b[0m\u001b[1;33m\u001b[0m\u001b[0m\n\u001b[0;32m    912\u001b[0m \u001b[1;33m\u001b[0m\u001b[0m\n",
      "\u001b[1;32mc:\\Users\\61401\\AppData\\Local\\Programs\\Python\\Python39\\lib\\site-packages\\snowflake\\connector\\errors.py\u001b[0m in \u001b[0;36merrorhandler_wrapper\u001b[1;34m(connection, cursor, error_class, error_value)\u001b[0m\n\u001b[0;32m    288\u001b[0m         \"\"\"\n\u001b[0;32m    289\u001b[0m \u001b[1;33m\u001b[0m\u001b[0m\n\u001b[1;32m--> 290\u001b[1;33m         handed_over = Error.hand_to_other_handler(\n\u001b[0m\u001b[0;32m    291\u001b[0m             \u001b[0mconnection\u001b[0m\u001b[1;33m,\u001b[0m\u001b[1;33m\u001b[0m\u001b[1;33m\u001b[0m\u001b[0m\n\u001b[0;32m    292\u001b[0m             \u001b[0mcursor\u001b[0m\u001b[1;33m,\u001b[0m\u001b[1;33m\u001b[0m\u001b[1;33m\u001b[0m\u001b[0m\n",
      "\u001b[1;32mc:\\Users\\61401\\AppData\\Local\\Programs\\Python\\Python39\\lib\\site-packages\\snowflake\\connector\\errors.py\u001b[0m in \u001b[0;36mhand_to_other_handler\u001b[1;34m(connection, cursor, error_class, error_value)\u001b[0m\n\u001b[0;32m    343\u001b[0m         \u001b[1;32mif\u001b[0m \u001b[0mcursor\u001b[0m \u001b[1;32mis\u001b[0m \u001b[1;32mnot\u001b[0m \u001b[1;32mNone\u001b[0m\u001b[1;33m:\u001b[0m\u001b[1;33m\u001b[0m\u001b[1;33m\u001b[0m\u001b[0m\n\u001b[0;32m    344\u001b[0m             \u001b[0mcursor\u001b[0m\u001b[1;33m.\u001b[0m\u001b[0mmessages\u001b[0m\u001b[1;33m.\u001b[0m\u001b[0mappend\u001b[0m\u001b[1;33m(\u001b[0m\u001b[1;33m(\u001b[0m\u001b[0merror_class\u001b[0m\u001b[1;33m,\u001b[0m \u001b[0merror_value\u001b[0m\u001b[1;33m)\u001b[0m\u001b[1;33m)\u001b[0m\u001b[1;33m\u001b[0m\u001b[1;33m\u001b[0m\u001b[0m\n\u001b[1;32m--> 345\u001b[1;33m             \u001b[0mcursor\u001b[0m\u001b[1;33m.\u001b[0m\u001b[0merrorhandler\u001b[0m\u001b[1;33m(\u001b[0m\u001b[0mconnection\u001b[0m\u001b[1;33m,\u001b[0m \u001b[0mcursor\u001b[0m\u001b[1;33m,\u001b[0m \u001b[0merror_class\u001b[0m\u001b[1;33m,\u001b[0m \u001b[0merror_value\u001b[0m\u001b[1;33m)\u001b[0m\u001b[1;33m\u001b[0m\u001b[1;33m\u001b[0m\u001b[0m\n\u001b[0m\u001b[0;32m    346\u001b[0m             \u001b[1;32mreturn\u001b[0m \u001b[1;32mTrue\u001b[0m\u001b[1;33m\u001b[0m\u001b[1;33m\u001b[0m\u001b[0m\n\u001b[0;32m    347\u001b[0m         \u001b[1;32melif\u001b[0m \u001b[0mconnection\u001b[0m \u001b[1;32mis\u001b[0m \u001b[1;32mnot\u001b[0m \u001b[1;32mNone\u001b[0m\u001b[1;33m:\u001b[0m\u001b[1;33m\u001b[0m\u001b[1;33m\u001b[0m\u001b[0m\n",
      "\u001b[1;32mc:\\Users\\61401\\AppData\\Local\\Programs\\Python\\Python39\\lib\\site-packages\\snowflake\\connector\\errors.py\u001b[0m in \u001b[0;36mdefault_errorhandler\u001b[1;34m(connection, cursor, error_class, error_value)\u001b[0m\n\u001b[0;32m    219\u001b[0m         \u001b[0merrno\u001b[0m \u001b[1;33m=\u001b[0m \u001b[0merror_value\u001b[0m\u001b[1;33m.\u001b[0m\u001b[0mget\u001b[0m\u001b[1;33m(\u001b[0m\u001b[1;34m\"errno\"\u001b[0m\u001b[1;33m)\u001b[0m\u001b[1;33m\u001b[0m\u001b[1;33m\u001b[0m\u001b[0m\n\u001b[0;32m    220\u001b[0m         \u001b[0mdone_format_msg\u001b[0m \u001b[1;33m=\u001b[0m \u001b[0merror_value\u001b[0m\u001b[1;33m.\u001b[0m\u001b[0mget\u001b[0m\u001b[1;33m(\u001b[0m\u001b[1;34m\"done_format_msg\"\u001b[0m\u001b[1;33m)\u001b[0m\u001b[1;33m\u001b[0m\u001b[1;33m\u001b[0m\u001b[0m\n\u001b[1;32m--> 221\u001b[1;33m         raise error_class(\n\u001b[0m\u001b[0;32m    222\u001b[0m             \u001b[0mmsg\u001b[0m\u001b[1;33m=\u001b[0m\u001b[0merror_value\u001b[0m\u001b[1;33m.\u001b[0m\u001b[0mget\u001b[0m\u001b[1;33m(\u001b[0m\u001b[1;34m\"msg\"\u001b[0m\u001b[1;33m)\u001b[0m\u001b[1;33m,\u001b[0m\u001b[1;33m\u001b[0m\u001b[1;33m\u001b[0m\u001b[0m\n\u001b[0;32m    223\u001b[0m             \u001b[0merrno\u001b[0m\u001b[1;33m=\u001b[0m\u001b[1;32mNone\u001b[0m \u001b[1;32mif\u001b[0m \u001b[0merrno\u001b[0m \u001b[1;32mis\u001b[0m \u001b[1;32mNone\u001b[0m \u001b[1;32melse\u001b[0m \u001b[0mint\u001b[0m\u001b[1;33m(\u001b[0m\u001b[0merrno\u001b[0m\u001b[1;33m)\u001b[0m\u001b[1;33m,\u001b[0m\u001b[1;33m\u001b[0m\u001b[1;33m\u001b[0m\u001b[0m\n",
      "\u001b[1;31mSnowparkSQLException\u001b[0m: (1304): 01ad9199-3201-8305-0001-4c3a0002d03a: 090105 (22000): Cannot perform SELECT. This session does not have a current database. Call 'USE DATABASE', or use a qualified name."
     ]
    }
   ],
   "source": [
    "main(new_session)"
   ]
  },
  {
   "cell_type": "code",
   "execution_count": null,
   "metadata": {},
   "outputs": [],
   "source": [
    "new_session.close()  "
   ]
  },
  {
   "cell_type": "code",
   "execution_count": 4,
   "metadata": {},
   "outputs": [],
   "source": [
    "import pyodbc\n",
    "# Trusted Connection to Named Instance\n",
    "connection = pyodbc.connect('DRIVER={ODBC Driver 17 for SQL Server};SERVER=DESKTOP-VJJUB30;DATABASE=AdventureWorks2022;Trusted_Connection=yes;')"
   ]
  },
  {
   "cell_type": "code",
   "execution_count": 5,
   "metadata": {},
   "outputs": [
    {
     "data": {
      "text/plain": [
       "<pyodbc.Cursor at 0x18aeed51ab0>"
      ]
     },
     "execution_count": 5,
     "metadata": {},
     "output_type": "execute_result"
    }
   ],
   "source": [
    "cursor=connection.cursor()\n",
    "cursor.execute(\"select top 100 * from AdventureWorks2022.HumanResources.Employee where JobTitle like 'production%' and MaritalStatus='M' and HireDate>='2000-01-01'and HireDate<=GETDATE()\")"
   ]
  },
  {
   "cell_type": "code",
   "execution_count": 8,
   "metadata": {},
   "outputs": [],
   "source": [
    "connection.close()"
   ]
  },
  {
   "cell_type": "code",
   "execution_count": 10,
   "metadata": {},
   "outputs": [
    {
     "name": "stdout",
     "output_type": "stream",
     "text": [
      "Collecting sqlalchemy\n",
      "  Downloading SQLAlchemy-2.0.18-cp39-cp39-win_amd64.whl (2.0 MB)\n",
      "Requirement already satisfied: typing-extensions>=4.2.0 in c:\\users\\61401\\appdata\\local\\programs\\python\\python39\\lib\\site-packages (from sqlalchemy) (4.7.0)\n",
      "Collecting greenlet!=0.4.17\n",
      "  Downloading greenlet-2.0.2-cp39-cp39-win_amd64.whl (192 kB)\n",
      "Installing collected packages: greenlet, sqlalchemy\n",
      "Successfully installed greenlet-2.0.2 sqlalchemy-2.0.18\n",
      "Note: you may need to restart the kernel to use updated packages.\n"
     ]
    },
    {
     "name": "stderr",
     "output_type": "stream",
     "text": [
      "WARNING: You are using pip version 21.1.3; however, version 23.1.2 is available.\n",
      "You should consider upgrading via the 'c:\\Users\\61401\\AppData\\Local\\Programs\\Python\\Python39\\python.exe -m pip install --upgrade pip' command.\n"
     ]
    }
   ],
   "source": [
    "pip install sqlalchemy"
   ]
  },
  {
   "cell_type": "code",
   "execution_count": 15,
   "metadata": {},
   "outputs": [],
   "source": [
    "import pandas as pd\n",
    "from sqlalchemy import create_engine\n",
    "engine = create_engine('mssql+pyodbc://DESKTOP-VJJUB30/AdventureWorks2022?driver=ODBC+Driver+17+for+SQL+Server')"
   ]
  },
  {
   "cell_type": "code",
   "execution_count": 16,
   "metadata": {},
   "outputs": [
    {
     "data": {
      "text/plain": [
       "<sqlalchemy.engine.base.Connection at 0x18affa60e50>"
      ]
     },
     "execution_count": 16,
     "metadata": {},
     "output_type": "execute_result"
    }
   ],
   "source": [
    "engine.connect()"
   ]
  },
  {
   "cell_type": "code",
   "execution_count": 22,
   "metadata": {},
   "outputs": [],
   "source": [
    "engine.dispose()"
   ]
  },
  {
   "cell_type": "code",
   "execution_count": 23,
   "metadata": {},
   "outputs": [],
   "source": [
    "df = pd.read_sql(\n",
    "      'SELECT [CustomerID]\\\n",
    "      ,[PersonID]\\\n",
    "      ,[StoreID]\\\n",
    "      ,[TerritoryID]\\\n",
    "      ,[AccountNumber]\\\n",
    "      ,[ModifiedDate]\\\n",
    "  FROM [Sales].[Customer]',\n",
    "  engine,\n",
    "  index_col='CustomerID')"
   ]
  },
  {
   "cell_type": "code",
   "execution_count": 24,
   "metadata": {},
   "outputs": [
    {
     "data": {
      "text/html": [
       "<div>\n",
       "<style scoped>\n",
       "    .dataframe tbody tr th:only-of-type {\n",
       "        vertical-align: middle;\n",
       "    }\n",
       "\n",
       "    .dataframe tbody tr th {\n",
       "        vertical-align: top;\n",
       "    }\n",
       "\n",
       "    .dataframe thead th {\n",
       "        text-align: right;\n",
       "    }\n",
       "</style>\n",
       "<table border=\"1\" class=\"dataframe\">\n",
       "  <thead>\n",
       "    <tr style=\"text-align: right;\">\n",
       "      <th></th>\n",
       "      <th>PersonID</th>\n",
       "      <th>StoreID</th>\n",
       "      <th>TerritoryID</th>\n",
       "      <th>AccountNumber</th>\n",
       "      <th>ModifiedDate</th>\n",
       "    </tr>\n",
       "    <tr>\n",
       "      <th>CustomerID</th>\n",
       "      <th></th>\n",
       "      <th></th>\n",
       "      <th></th>\n",
       "      <th></th>\n",
       "      <th></th>\n",
       "    </tr>\n",
       "  </thead>\n",
       "  <tbody>\n",
       "    <tr>\n",
       "      <th>1</th>\n",
       "      <td>NaN</td>\n",
       "      <td>934.0</td>\n",
       "      <td>1</td>\n",
       "      <td>AW00000001</td>\n",
       "      <td>2014-09-12 11:15:07.263</td>\n",
       "    </tr>\n",
       "    <tr>\n",
       "      <th>2</th>\n",
       "      <td>NaN</td>\n",
       "      <td>1028.0</td>\n",
       "      <td>1</td>\n",
       "      <td>AW00000002</td>\n",
       "      <td>2014-09-12 11:15:07.263</td>\n",
       "    </tr>\n",
       "    <tr>\n",
       "      <th>3</th>\n",
       "      <td>NaN</td>\n",
       "      <td>642.0</td>\n",
       "      <td>4</td>\n",
       "      <td>AW00000003</td>\n",
       "      <td>2014-09-12 11:15:07.263</td>\n",
       "    </tr>\n",
       "    <tr>\n",
       "      <th>4</th>\n",
       "      <td>NaN</td>\n",
       "      <td>932.0</td>\n",
       "      <td>4</td>\n",
       "      <td>AW00000004</td>\n",
       "      <td>2014-09-12 11:15:07.263</td>\n",
       "    </tr>\n",
       "    <tr>\n",
       "      <th>5</th>\n",
       "      <td>NaN</td>\n",
       "      <td>1026.0</td>\n",
       "      <td>4</td>\n",
       "      <td>AW00000005</td>\n",
       "      <td>2014-09-12 11:15:07.263</td>\n",
       "    </tr>\n",
       "    <tr>\n",
       "      <th>...</th>\n",
       "      <td>...</td>\n",
       "      <td>...</td>\n",
       "      <td>...</td>\n",
       "      <td>...</td>\n",
       "      <td>...</td>\n",
       "    </tr>\n",
       "    <tr>\n",
       "      <th>30114</th>\n",
       "      <td>1985.0</td>\n",
       "      <td>1986.0</td>\n",
       "      <td>7</td>\n",
       "      <td>AW00030114</td>\n",
       "      <td>2014-09-12 11:15:07.263</td>\n",
       "    </tr>\n",
       "    <tr>\n",
       "      <th>30115</th>\n",
       "      <td>1987.0</td>\n",
       "      <td>1988.0</td>\n",
       "      <td>6</td>\n",
       "      <td>AW00030115</td>\n",
       "      <td>2014-09-12 11:15:07.263</td>\n",
       "    </tr>\n",
       "    <tr>\n",
       "      <th>30116</th>\n",
       "      <td>1989.0</td>\n",
       "      <td>1990.0</td>\n",
       "      <td>4</td>\n",
       "      <td>AW00030116</td>\n",
       "      <td>2014-09-12 11:15:07.263</td>\n",
       "    </tr>\n",
       "    <tr>\n",
       "      <th>30117</th>\n",
       "      <td>1991.0</td>\n",
       "      <td>1992.0</td>\n",
       "      <td>4</td>\n",
       "      <td>AW00030117</td>\n",
       "      <td>2014-09-12 11:15:07.263</td>\n",
       "    </tr>\n",
       "    <tr>\n",
       "      <th>30118</th>\n",
       "      <td>1993.0</td>\n",
       "      <td>1994.0</td>\n",
       "      <td>3</td>\n",
       "      <td>AW00030118</td>\n",
       "      <td>2014-09-12 11:15:07.263</td>\n",
       "    </tr>\n",
       "  </tbody>\n",
       "</table>\n",
       "<p>19820 rows × 5 columns</p>\n",
       "</div>"
      ],
      "text/plain": [
       "            PersonID  StoreID  TerritoryID AccountNumber  \\\n",
       "CustomerID                                                 \n",
       "1                NaN    934.0            1    AW00000001   \n",
       "2                NaN   1028.0            1    AW00000002   \n",
       "3                NaN    642.0            4    AW00000003   \n",
       "4                NaN    932.0            4    AW00000004   \n",
       "5                NaN   1026.0            4    AW00000005   \n",
       "...              ...      ...          ...           ...   \n",
       "30114         1985.0   1986.0            7    AW00030114   \n",
       "30115         1987.0   1988.0            6    AW00030115   \n",
       "30116         1989.0   1990.0            4    AW00030116   \n",
       "30117         1991.0   1992.0            4    AW00030117   \n",
       "30118         1993.0   1994.0            3    AW00030118   \n",
       "\n",
       "                      ModifiedDate  \n",
       "CustomerID                          \n",
       "1          2014-09-12 11:15:07.263  \n",
       "2          2014-09-12 11:15:07.263  \n",
       "3          2014-09-12 11:15:07.263  \n",
       "4          2014-09-12 11:15:07.263  \n",
       "5          2014-09-12 11:15:07.263  \n",
       "...                            ...  \n",
       "30114      2014-09-12 11:15:07.263  \n",
       "30115      2014-09-12 11:15:07.263  \n",
       "30116      2014-09-12 11:15:07.263  \n",
       "30117      2014-09-12 11:15:07.263  \n",
       "30118      2014-09-12 11:15:07.263  \n",
       "\n",
       "[19820 rows x 5 columns]"
      ]
     },
     "execution_count": 24,
     "metadata": {},
     "output_type": "execute_result"
    }
   ],
   "source": [
    "df"
   ]
  },
  {
   "cell_type": "code",
   "execution_count": 25,
   "metadata": {},
   "outputs": [
    {
     "data": {
      "text/plain": [
       "PersonID                             1985.0\n",
       "StoreID                              1986.0\n",
       "TerritoryID                               7\n",
       "AccountNumber                    AW00030114\n",
       "ModifiedDate     2014-09-12 11:15:07.263000\n",
       "Name: 30114, dtype: object"
      ]
     },
     "execution_count": 25,
     "metadata": {},
     "output_type": "execute_result"
    }
   ],
   "source": [
    "https://boards.greenhouse.io/vgw/jobs/6814326002?gh_src=bfc37dd62us"
   ]
  },
  {
   "cell_type": "code",
   "execution_count": 1,
   "metadata": {},
   "outputs": [
    {
     "name": "stdout",
     "output_type": "stream",
     "text": [
      "Collecting pymc\n",
      "  Downloading pymc-5.6.1-py3-none-any.whl (450 kB)\n",
      "Collecting scipy>=1.4.1\n",
      "  Downloading scipy-1.11.1-cp39-cp39-win_amd64.whl (44.1 MB)\n",
      "Collecting pytensor<2.13,>=2.12.0\n",
      "Note: you may need to restart the kernel to use updated packages.  Downloading pytensor-2.12.3-cp39-cp39-win_amd64.whl (1.4 MB)\n",
      "Collecting arviz>=0.13.0\n",
      "  Downloading arviz-0.16.0-py3-none-any.whl (1.7 MB)\n",
      "Requirement already satisfied: typing-extensions>=3.7.4 in c:\\users\\61401\\appdata\\local\\programs\\python\\python39\\lib\\site-packages (from pymc) (4.7.0)\n",
      "Requirement already satisfied: cloudpickle in c:\\users\\61401\\appdata\\local\\programs\\python\\python39\\lib\\site-packages (from pymc) (2.0.0)\n",
      "Collecting fastprogress>=0.2.0\n",
      "\n",
      "  Downloading fastprogress-1.0.3-py3-none-any.whl (12 kB)\n"
     ]
    },
    {
     "name": "stderr",
     "output_type": "stream",
     "text": [
      "WARNING: You are using pip version 21.1.3; however, version 23.1.2 is available.\n",
      "You should consider upgrading via the 'c:\\Users\\61401\\AppData\\Local\\Programs\\Python\\Python39\\python.exe -m pip install --upgrade pip' command.\n"
     ]
    },
    {
     "name": "stdout",
     "output_type": "stream",
     "text": [
      "Collecting cachetools>=4.2.1\n",
      "  Downloading cachetools-5.3.1-py3-none-any.whl (9.3 kB)\n",
      "Requirement already satisfied: pandas>=0.24.0 in c:\\users\\61401\\appdata\\local\\programs\\python\\python39\\lib\\site-packages (from pymc) (2.0.3)\n",
      "Requirement already satisfied: numpy>=1.15.0 in c:\\users\\61401\\appdata\\local\\programs\\python\\python39\\lib\\site-packages (from pymc) (1.21.1)\n",
      "Requirement already satisfied: matplotlib>=3.2 in c:\\users\\61401\\appdata\\local\\programs\\python\\python39\\lib\\site-packages (from arviz>=0.13.0->pymc) (3.7.1)\n",
      "Collecting setuptools>=60.0.0\n",
      "  Downloading setuptools-68.0.0-py3-none-any.whl (804 kB)\n",
      "Collecting xarray-einstats>=0.3\n",
      "  Downloading xarray_einstats-0.6.0-py3-none-any.whl (31 kB)\n",
      "Collecting h5netcdf>=1.0.2\n",
      "  Downloading h5netcdf-1.2.0-py3-none-any.whl (43 kB)\n",
      "Requirement already satisfied: packaging in c:\\users\\61401\\appdata\\local\\programs\\python\\python39\\lib\\site-packages (from arviz>=0.13.0->pymc) (23.1)\n",
      "Collecting xarray>=0.21.0\n",
      "  Downloading xarray-2023.7.0-py3-none-any.whl (1.0 MB)\n",
      "Collecting h5py\n",
      "  Downloading h5py-3.9.0-cp39-cp39-win_amd64.whl (2.7 MB)\n",
      "Requirement already satisfied: python-dateutil>=2.7 in c:\\users\\61401\\appdata\\local\\programs\\python\\python39\\lib\\site-packages (from matplotlib>=3.2->arviz>=0.13.0->pymc) (2.8.2)\n",
      "Requirement already satisfied: contourpy>=1.0.1 in c:\\users\\61401\\appdata\\local\\programs\\python\\python39\\lib\\site-packages (from matplotlib>=3.2->arviz>=0.13.0->pymc) (1.1.0)\n",
      "Requirement already satisfied: pillow>=6.2.0 in c:\\users\\61401\\appdata\\local\\programs\\python\\python39\\lib\\site-packages (from matplotlib>=3.2->arviz>=0.13.0->pymc) (10.0.0)\n",
      "Requirement already satisfied: cycler>=0.10 in c:\\users\\61401\\appdata\\local\\programs\\python\\python39\\lib\\site-packages (from matplotlib>=3.2->arviz>=0.13.0->pymc) (0.11.0)\n",
      "Requirement already satisfied: fonttools>=4.22.0 in c:\\users\\61401\\appdata\\local\\programs\\python\\python39\\lib\\site-packages (from matplotlib>=3.2->arviz>=0.13.0->pymc) (4.40.0)\n",
      "Requirement already satisfied: pyparsing>=2.3.1 in c:\\users\\61401\\appdata\\local\\programs\\python\\python39\\lib\\site-packages (from matplotlib>=3.2->arviz>=0.13.0->pymc) (3.1.0)\n",
      "Requirement already satisfied: importlib-resources>=3.2.0 in c:\\users\\61401\\appdata\\local\\programs\\python\\python39\\lib\\site-packages (from matplotlib>=3.2->arviz>=0.13.0->pymc) (5.12.0)\n",
      "Requirement already satisfied: kiwisolver>=1.0.1 in c:\\users\\61401\\appdata\\local\\programs\\python\\python39\\lib\\site-packages (from matplotlib>=3.2->arviz>=0.13.0->pymc) (1.4.4)\n",
      "Requirement already satisfied: zipp>=3.1.0 in c:\\users\\61401\\appdata\\local\\programs\\python\\python39\\lib\\site-packages (from importlib-resources>=3.2.0->matplotlib>=3.2->arviz>=0.13.0->pymc) (3.15.0)\n",
      "Requirement already satisfied: tzdata>=2022.1 in c:\\users\\61401\\appdata\\local\\programs\\python\\python39\\lib\\site-packages (from pandas>=0.24.0->pymc) (2023.3)\n",
      "Requirement already satisfied: pytz>=2020.1 in c:\\users\\61401\\appdata\\local\\programs\\python\\python39\\lib\\site-packages (from pandas>=0.24.0->pymc) (2023.3)\n",
      "Collecting logical-unification\n",
      "  Downloading logical-unification-0.4.6.tar.gz (31 kB)\n",
      "Collecting miniKanren\n",
      "  Downloading miniKanren-1.0.3.tar.gz (41 kB)\n",
      "Requirement already satisfied: filelock in c:\\users\\61401\\appdata\\local\\programs\\python\\python39\\lib\\site-packages (from pytensor<2.13,>=2.12.0->pymc) (3.12.2)\n",
      "Collecting etuples\n",
      "  Downloading etuples-0.3.9.tar.gz (30 kB)\n",
      "Collecting cons\n",
      "  Downloading cons-0.4.6.tar.gz (26 kB)\n",
      "Requirement already satisfied: six>=1.5 in c:\\users\\61401\\appdata\\local\\programs\\python\\python39\\lib\\site-packages (from python-dateutil>=2.7->matplotlib>=3.2->arviz>=0.13.0->pymc) (1.16.0)\n",
      "Collecting numpy>=1.15.0\n",
      "  Downloading numpy-1.25.1-cp39-cp39-win_amd64.whl (15.1 MB)\n",
      "Collecting toolz\n",
      "  Downloading toolz-0.12.0-py3-none-any.whl (55 kB)\n",
      "Collecting multipledispatch\n",
      "  Downloading multipledispatch-1.0.0-py3-none-any.whl (12 kB)\n",
      "Building wheels for collected packages: cons, logical-unification, etuples, miniKanren\n",
      "  Building wheel for cons (setup.py): started\n",
      "  Building wheel for cons (setup.py): finished with status 'done'\n",
      "  Created wheel for cons: filename=cons-0.4.6-py3-none-any.whl size=9118 sha256=998f80eadd42159cb550532c3ffd8c0311d94cb54d567e9fb12a74288d0ed7b8\n",
      "  Stored in directory: c:\\users\\61401\\appdata\\local\\pip\\cache\\wheels\\56\\8e\\eb\\130d313bbaf36c97915634104d81fb7119332331ce32dca02e\n",
      "  Building wheel for logical-unification (setup.py): started\n",
      "  Building wheel for logical-unification (setup.py): finished with status 'done'\n",
      "  Created wheel for logical-unification: filename=logical_unification-0.4.6-py3-none-any.whl size=13953 sha256=28c85845ffc23cb8b7752055e3fc1c1a2cc098e40323a3f88e54815b285dccf5\n",
      "  Stored in directory: c:\\users\\61401\\appdata\\local\\pip\\cache\\wheels\\c0\\b5\\eb\\4af72f29fe7c242c96064dcc7f0c0925e879f02ef0a2858627\n",
      "  Building wheel for etuples (setup.py): started\n",
      "  Building wheel for etuples (setup.py): finished with status 'done'\n",
      "  Created wheel for etuples: filename=etuples-0.3.9-py3-none-any.whl size=12666 sha256=db65eefef40d8f9bbf6df0882d69010367eb98427bb33878266eaa4971b84123\n",
      "  Stored in directory: c:\\users\\61401\\appdata\\local\\pip\\cache\\wheels\\39\\61\\89\\eea4bbeb6d803a2a803e1ca4eac3c05ef89157c72a72dfe1e2\n",
      "  Building wheel for miniKanren (setup.py): started\n",
      "  Building wheel for miniKanren (setup.py): finished with status 'done'\n",
      "  Created wheel for miniKanren: filename=miniKanren-1.0.3-py3-none-any.whl size=23954 sha256=47b66c092ad94b60ff910fa68e7562fb3159fcbdfc0586b5f17490c1e4a656e8\n",
      "  Stored in directory: c:\\users\\61401\\appdata\\local\\pip\\cache\\wheels\\d3\\a4\\be\\da3156a6e79d4ce54e83d66e27510361fce41bec9bd174b288\n",
      "Successfully built cons logical-unification etuples miniKanren\n",
      "Installing collected packages: toolz, multipledispatch, numpy, logical-unification, cons, xarray, scipy, h5py, etuples, xarray-einstats, setuptools, miniKanren, h5netcdf, pytensor, fastprogress, cachetools, arviz, pymc\n",
      "  Attempting uninstall: numpy\n",
      "    Found existing installation: numpy 1.21.1\n",
      "    Uninstalling numpy-1.21.1:\n",
      "      Successfully uninstalled numpy-1.21.1\n",
      "  Attempting uninstall: setuptools\n",
      "    Found existing installation: setuptools 56.0.0\n",
      "    Uninstalling setuptools-56.0.0:\n",
      "      Successfully uninstalled setuptools-56.0.0\n",
      "Successfully installed arviz-0.16.0 cachetools-5.3.1 cons-0.4.6 etuples-0.3.9 fastprogress-1.0.3 h5netcdf-1.2.0 h5py-3.9.0 logical-unification-0.4.6 miniKanren-1.0.3 multipledispatch-1.0.0 numpy-1.25.1 pymc-5.6.1 pytensor-2.12.3 scipy-1.11.1 setuptools-68.0.0 toolz-0.12.0 xarray-2023.7.0 xarray-einstats-0.6.0\n"
     ]
    }
   ],
   "source": [
    "pip install pymc"
   ]
  },
  {
   "cell_type": "code",
   "execution_count": null,
   "metadata": {},
   "outputs": [],
   "source": [
    "import pymc as pm\n",
    "from pymc_"
   ]
  },
  {
   "cell_type": "code",
   "execution_count": null,
   "metadata": {},
   "outputs": [],
   "source": [
    "Model Evaluation: Various statistical measures are used to evaluate the performance and validity of the MMM model.\n",
    "These may include metrics such as R-squared (coefficient of determination), adjusted R-squared, significance tests for \n",
    "coefficients, p-values, standard errors, and residual analysis."
   ]
  },
  {
   "cell_type": "code",
   "execution_count": 2,
   "metadata": {},
   "outputs": [],
   "source": [
    "import numpy as np\n",
    "import matplotlib.pyplot as plt\n",
    "automatc_samples=np.random.multivariate_normal([0,0],[[1,0.5],[0.5,1]],100000)"
   ]
  },
  {
   "cell_type": "code",
   "execution_count": 5,
   "metadata": {},
   "outputs": [
    {
     "data": {
      "text/plain": [
       "<matplotlib.collections.PathCollection at 0x254c7430e20>"
      ]
     },
     "execution_count": 5,
     "metadata": {},
     "output_type": "execute_result"
    },
    {
     "data": {
      "image/png": "[encoded data removed]",
      "text/plain": [
       "<Figure size 432x288 with 1 Axes>"
      ]
     },
     "metadata": {
      "needs_background": "light"
     },
     "output_type": "display_data"
    }
   ],
   "source": [
    "plt.scatter(automatc_samples[:,0],automatc_samples[:,1],s=5)"
   ]
  },
  {
   "cell_type": "code",
   "execution_count": 19,
   "metadata": {},
   "outputs": [],
   "source": [
    "import random\n",
    "x0=random.uniform(-4,4)\n",
    "y0=random.uniform(-4,4)\n",
    "x=[]\n",
    "y=[]\n",
    "x.append(x0)\n",
    "y.append(y0)\n",
    "for i in range(10000):\n",
    "    x.append(np.random.normal(y[i]/2,np.sqrt(3/4),1)[0])\n",
    "    y.append(np.random.normal(x[i+1]/2,np.sqrt(3/4),1)[0])\n",
    "\n"
   ]
  },
  {
   "cell_type": "code",
   "execution_count": 26,
   "metadata": {},
   "outputs": [
    {
     "data": {
      "text/plain": [
       "(array([   4.,    9.,   31.,   91.,  230.,  464.,  763., 1151., 1433.,\n",
       "        1627., 1493., 1109.,  794.,  451.,  200.,  100.,   38.,    6.,\n",
       "           4.,    3.]),\n",
       " array([-3.71585071, -3.32413947, -2.93242823, -2.54071699, -2.14900575,\n",
       "        -1.7572945 , -1.36558326, -0.97387202, -0.58216078, -0.19044953,\n",
       "         0.20126171,  0.59297295,  0.98468419,  1.37639544,  1.76810668,\n",
       "         2.15981792,  2.55152916,  2.9432404 ,  3.33495165,  3.72666289,\n",
       "         4.11837413]),\n",
       " <BarContainer object of 20 artists>)"
      ]
     },
     "execution_count": 26,
     "metadata": {},
     "output_type": "execute_result"
    },
    {
     "data": {
      "image/png": "[encoded data removed]",
      "text/plain": [
       "<Figure size 432x288 with 1 Axes>"
      ]
     },
     "metadata": {
      "needs_background": "light"
     },
     "output_type": "display_data"
    }
   ],
   "source": [
    "plt.hist(x,bins=20)"
   ]
  },
  {
   "cell_type": "code",
   "execution_count": 25,
   "metadata": {},
   "outputs": [
    {
     "data": {
      "text/plain": [
       "(array([1.17737761e-04, 8.71259429e-04, 2.09573214e-03, 8.83033205e-03,\n",
       "        2.56668318e-02, 6.24952033e-02, 1.30900842e-01, 2.16990693e-01,\n",
       "        3.19163522e-01, 3.85379238e-01, 3.88134302e-01, 3.31007940e-01,\n",
       "        2.34062668e-01, 1.38012203e-01, 6.84762816e-02, 2.88928465e-02,\n",
       "        9.86642434e-03, 2.89634891e-03, 7.29974116e-04, 1.64832865e-04]),\n",
       " array([-4.27600576, -3.85133317, -3.42666058, -3.00198799, -2.57731539,\n",
       "        -2.1526428 , -1.72797021, -1.30329762, -0.87862503, -0.45395243,\n",
       "        -0.02927984,  0.39539275,  0.82006534,  1.24473794,  1.66941053,\n",
       "         2.09408312,  2.51875571,  2.9434283 ,  3.3681009 ,  3.79277349,\n",
       "         4.21744608]),\n",
       " <BarContainer object of 20 artists>)"
      ]
     },
     "execution_count": 25,
     "metadata": {},
     "output_type": "execute_result"
    },
    {
     "data": {
      "image/png": "[encoded data removed]",
      "text/plain": [
       "<Figure size 432x288 with 1 Axes>"
      ]
     },
     "metadata": {
      "needs_background": "light"
     },
     "output_type": "display_data"
    }
   ],
   "source": [
    "plt.hist(x,bins=20,density=True,alpha=0.5)\n",
    "plt.hist(automatc_samples[:,0],bins=20,density=True)"
   ]
  },
  {
   "cell_type": "code",
   "execution_count": 3,
   "metadata": {},
   "outputs": [
    {
     "name": "stdout",
     "output_type": "stream",
     "text": [
      "Note: you may need to restart the kernel to use updated packages.Collecting lightweight_mmm\n",
      "\n",
      "  Obtaining dependency information for lightweight_mmm from https://files.pythonhosted.org/packages/e9/4f/4de01b34a2b22303a0b694f98457632ea689767b5e79d0657898de8c2b37/lightweight_mmm-0.1.9-py3-none-any.whl.metadata\n",
      "  Using cached lightweight_mmm-0.1.9-py3-none-any.whl.metadata (18 kB)\n",
      "Collecting absl-py (from lightweight_mmm)\n",
      "  Using cached absl_py-1.4.0-py3-none-any.whl (126 kB)\n",
      "Requirement already satisfied: arviz>=0.11.2 in c:\\users\\61401\\appdata\\local\\programs\\python\\python39\\lib\\site-packages (from lightweight_mmm) (0.16.0)\n",
      "Collecting immutabledict>=2.0.0 (from lightweight_mmm)\n",
      "  Obtaining dependency information for immutabledict>=2.0.0 from https://files.pythonhosted.org/packages/63/24/2d70ce3bca941be9d81e7e701918b5eb4655e74f5ce7453d3fb6760edfa3/immutabledict-2.2.5-py3-none-any.whl.metadata\n",
      "  Using cached immutabledict-2.2.5-py3-none-any.whl.metadata (3.2 kB)\n",
      "Requirement already satisfied: jax>=0.3.18 in c:\\users\\61401\\appdata\\local\\programs\\python\\python39\\lib\\site-packages (from lightweight_mmm) (0.4.13)\n",
      "Requirement already satisfied: jaxlib>=0.3.18 in c:\\users\\61401\\appdata\\local\\programs\\python\\python39\\lib\\site-packages (from lightweight_mmm) (0.4.13)\n",
      "Collecting matplotlib==3.6.1 (from lightweight_mmm)\n",
      "  Using cached matplotlib-3.6.1-cp39-cp39-win_amd64.whl (7.2 MB)\n",
      "Requirement already satisfied: numpy>=1.23 in c:\\users\\61401\\appdata\\local\\programs\\python\\python39\\lib\\site-packages (from lightweight_mmm) (1.24.3)\n",
      "Requirement already satisfied: numpyro>=0.9.2 in c:\\users\\61401\\appdata\\local\\programs\\python\\python39\\lib\\site-packages (from lightweight_mmm) (0.12.1)\n",
      "Requirement already satisfied: pandas>=1.1.5 in c:\\users\\61401\\appdata\\local\\programs\\python\\python39\\lib\\site-packages (from lightweight_mmm) (2.0.3)\n",
      "Requirement already satisfied: scipy in c:\\users\\61401\\appdata\\local\\programs\\python\\python39\\lib\\site-packages (from lightweight_mmm) (1.11.1)\n",
      "Collecting seaborn==0.11.1 (from lightweight_mmm)\n",
      "  Using cached seaborn-0.11.1-py3-none-any.whl (285 kB)\n",
      "Collecting scikit-learn (from lightweight_mmm)\n",
      "  Obtaining dependency information for scikit-learn from https://files.pythonhosted.org/packages/2d/30/3afb8bcb785653254eb646ff2680ec4d637b40b06f4b046aca17b5e086b0/scikit_learn-1.3.0-cp39-cp39-win_amd64.whl.metadata\n",
      "  Using cached scikit_learn-1.3.0-cp39-cp39-win_amd64.whl.metadata (11 kB)\n",
      "Collecting statsmodels>=0.13.0 (from lightweight_mmm)\n",
      "  Using cached statsmodels-0.14.0-cp39-cp39-win_amd64.whl (9.4 MB)\n",
      "Collecting tensorflow>=2.7.2 (from lightweight_mmm)\n",
      "  Obtaining dependency information for tensorflow>=2.7.2 from https://files.pythonhosted.org/packages/1b/66/2f47c39cfedb29188d82555d0184a619a0bf8234fd5e5301940efb0aa464/tensorflow-2.13.0-cp39-cp39-win_amd64.whl.metadata\n",
      "  Using cached tensorflow-2.13.0-cp39-cp39-win_amd64.whl.metadata (2.6 kB)\n",
      "Requirement already satisfied: contourpy>=1.0.1 in c:\\users\\61401\\appdata\\local\\programs\\python\\python39\\lib\\site-packages (from matplotlib==3.6.1->lightweight_mmm) (1.1.0)\n",
      "Requirement already satisfied: cycler>=0.10 in c:\\users\\61401\\appdata\\local\\programs\\python\\python39\\lib\\site-packages (from matplotlib==3.6.1->lightweight_mmm) (0.11.0)\n",
      "Requirement already satisfied: fonttools>=4.22.0 in c:\\users\\61401\\appdata\\local\\programs\\python\\python39\\lib\\site-packages (from matplotlib==3.6.1->lightweight_mmm) (4.40.0)\n",
      "Requirement already satisfied: kiwisolver>=1.0.1 in c:\\users\\61401\\appdata\\local\\programs\\python\\python39\\lib\\site-packages (from matplotlib==3.6.1->lightweight_mmm) (1.4.4)\n",
      "Requirement already satisfied: packaging>=20.0 in c:\\users\\61401\\appdata\\local\\programs\\python\\python39\\lib\\site-packages (from matplotlib==3.6.1->lightweight_mmm) (23.1)\n",
      "Requirement already satisfied: pillow>=6.2.0 in c:\\users\\61401\\appdata\\local\\programs\\python\\python39\\lib\\site-packages (from matplotlib==3.6.1->lightweight_mmm) (10.0.0)\n",
      "Requirement already satisfied: pyparsing>=2.2.1 in c:\\users\\61401\\appdata\\local\\programs\\python\\python39\\lib\\site-packages (from matplotlib==3.6.1->lightweight_mmm) (3.1.0)\n",
      "Requirement already satisfied: python-dateutil>=2.7 in c:\\users\\61401\\appdata\\local\\programs\\python\\python39\\lib\\site-packages (from matplotlib==3.6.1->lightweight_mmm) (2.8.2)\n",
      "Requirement already satisfied: setuptools>=60.0.0 in c:\\users\\61401\\appdata\\local\\programs\\python\\python39\\lib\\site-packages (from arviz>=0.11.2->lightweight_mmm) (68.0.0)\n",
      "Requirement already satisfied: xarray>=0.21.0 in c:\\users\\61401\\appdata\\local\\programs\\python\\python39\\lib\\site-packages (from arviz>=0.11.2->lightweight_mmm) (2023.7.0)\n",
      "Requirement already satisfied: h5netcdf>=1.0.2 in c:\\users\\61401\\appdata\\local\\programs\\python\\python39\\lib\\site-packages (from arviz>=0.11.2->lightweight_mmm) (1.2.0)\n",
      "Requirement already satisfied: typing-extensions>=4.1.0 in c:\\users\\61401\\appdata\\local\\programs\\python\\python39\\lib\\site-packages (from arviz>=0.11.2->lightweight_mmm) (4.5.0)\n",
      "Requirement already satisfied: xarray-einstats>=0.3 in c:\\users\\61401\\appdata\\local\\programs\\python\\python39\\lib\\site-packages (from arviz>=0.11.2->lightweight_mmm) (0.6.0)\n",
      "Requirement already satisfied: ml-dtypes>=0.1.0 in c:\\users\\61401\\appdata\\local\\programs\\python\\python39\\lib\\site-packages (from jax>=0.3.18->lightweight_mmm) (0.2.0)\n",
      "Requirement already satisfied: opt-einsum in c:\\users\\61401\\appdata\\local\\programs\\python\\python39\\lib\\site-packages (from jax>=0.3.18->lightweight_mmm) (3.3.0)\n",
      "Requirement already satisfied: importlib-metadata>=4.6 in c:\\users\\61401\\appdata\\local\\programs\\python\\python39\\lib\\site-packages (from jax>=0.3.18->lightweight_mmm) (6.8.0)\n",
      "Requirement already satisfied: multipledispatch in c:\\users\\61401\\appdata\\local\\programs\\python\\python39\\lib\\site-packages (from numpyro>=0.9.2->lightweight_mmm) (1.0.0)\n",
      "Requirement already satisfied: tqdm in c:\\users\\61401\\appdata\\local\\programs\\python\\python39\\lib\\site-packages (from numpyro>=0.9.2->lightweight_mmm) (4.65.0)\n",
      "Requirement already satisfied: pytz>=2020.1 in c:\\users\\61401\\appdata\\local\\programs\\python\\python39\\lib\\site-packages (from pandas>=1.1.5->lightweight_mmm) (2023.3)\n",
      "Requirement already satisfied: tzdata>=2022.1 in c:\\users\\61401\\appdata\\local\\programs\\python\\python39\\lib\\site-packages (from pandas>=1.1.5->lightweight_mmm) (2023.3)\n",
      "Collecting patsy>=0.5.2 (from statsmodels>=0.13.0->lightweight_mmm)\n",
      "  Using cached patsy-0.5.3-py2.py3-none-any.whl (233 kB)\n",
      "Collecting tensorflow-intel==2.13.0 (from tensorflow>=2.7.2->lightweight_mmm)\n",
      "  Obtaining dependency information for tensorflow-intel==2.13.0 from https://files.pythonhosted.org/packages/2b/ad/d3a2e335004d178e0599cf8aff6c2a92cd21eb9789358fb8f3f951009930/tensorflow_intel-2.13.0-cp39-cp39-win_amd64.whl.metadata\n",
      "  Using cached tensorflow_intel-2.13.0-cp39-cp39-win_amd64.whl.metadata (4.1 kB)\n",
      "Collecting astunparse>=1.6.0 (from tensorflow-intel==2.13.0->tensorflow>=2.7.2->lightweight_mmm)\n",
      "  Using cached astunparse-1.6.3-py2.py3-none-any.whl (12 kB)\n",
      "Requirement already satisfied: flatbuffers>=23.1.21 in c:\\users\\61401\\appdata\\local\\programs\\python\\python39\\lib\\site-packages (from tensorflow-intel==2.13.0->tensorflow>=2.7.2->lightweight_mmm) (23.5.26)\n",
      "Collecting gast<=0.4.0,>=0.2.1 (from tensorflow-intel==2.13.0->tensorflow>=2.7.2->lightweight_mmm)\n",
      "  Using cached gast-0.4.0-py3-none-any.whl (9.8 kB)\n",
      "Collecting google-pasta>=0.1.1 (from tensorflow-intel==2.13.0->tensorflow>=2.7.2->lightweight_mmm)\n",
      "  Using cached google_pasta-0.2.0-py3-none-any.whl (57 kB)\n",
      "Requirement already satisfied: h5py>=2.9.0 in c:\\users\\61401\\appdata\\local\\programs\\python\\python39\\lib\\site-packages (from tensorflow-intel==2.13.0->tensorflow>=2.7.2->lightweight_mmm) (3.9.0)\n",
      "Requirement already satisfied: libclang>=13.0.0 in c:\\users\\61401\\appdata\\local\\programs\\python\\python39\\lib\\site-packages (from tensorflow-intel==2.13.0->tensorflow>=2.7.2->lightweight_mmm) (16.0.6)\n",
      "Requirement already satisfied: protobuf!=4.21.0,!=4.21.1,!=4.21.2,!=4.21.3,!=4.21.4,!=4.21.5,<5.0.0dev,>=3.20.3 in c:\\users\\61401\\appdata\\local\\programs\\python\\python39\\lib\\site-packages (from tensorflow-intel==2.13.0->tensorflow>=2.7.2->lightweight_mmm) (4.23.4)\n",
      "Requirement already satisfied: six>=1.12.0 in c:\\users\\61401\\appdata\\local\\programs\\python\\python39\\lib\\site-packages (from tensorflow-intel==2.13.0->tensorflow>=2.7.2->lightweight_mmm) (1.16.0)\n",
      "Requirement already satisfied: termcolor>=1.1.0 in c:\\users\\61401\\appdata\\local\\programs\\python\\python39\\lib\\site-packages (from tensorflow-intel==2.13.0->tensorflow>=2.7.2->lightweight_mmm) (2.3.0)\n",
      "Requirement already satisfied: wrapt>=1.11.0 in c:\\users\\61401\\appdata\\local\\programs\\python\\python39\\lib\\site-packages (from tensorflow-intel==2.13.0->tensorflow>=2.7.2->lightweight_mmm) (1.15.0)\n",
      "Collecting grpcio<2.0,>=1.24.3 (from tensorflow-intel==2.13.0->tensorflow>=2.7.2->lightweight_mmm)\n",
      "  Obtaining dependency information for grpcio<2.0,>=1.24.3 from https://files.pythonhosted.org/packages/19/1e/866020537ca4fee532e31cdbfee272cd049fbd31c0e19f140505bc5424ea/grpcio-1.56.0-cp39-cp39-win_amd64.whl.metadata\n",
      "  Using cached grpcio-1.56.0-cp39-cp39-win_amd64.whl.metadata (4.1 kB)\n",
      "Collecting tensorboard<2.14,>=2.13 (from tensorflow-intel==2.13.0->tensorflow>=2.7.2->lightweight_mmm)\n",
      "  Using cached tensorboard-2.13.0-py3-none-any.whl (5.6 MB)\n",
      "Requirement already satisfied: tensorflow-estimator<2.14,>=2.13.0 in c:\\users\\61401\\appdata\\local\\programs\\python\\python39\\lib\\site-packages (from tensorflow-intel==2.13.0->tensorflow>=2.7.2->lightweight_mmm) (2.13.0)\n",
      "Collecting keras<2.14,>=2.13.1 (from tensorflow-intel==2.13.0->tensorflow>=2.7.2->lightweight_mmm)\n",
      "  Obtaining dependency information for keras<2.14,>=2.13.1 from https://files.pythonhosted.org/packages/2e/f3/19da7511b45e80216cbbd9467137b2d28919c58ba1ccb971435cb631e470/keras-2.13.1-py3-none-any.whl.metadata\n",
      "  Using cached keras-2.13.1-py3-none-any.whl.metadata (2.4 kB)\n",
      "Requirement already satisfied: tensorflow-io-gcs-filesystem>=0.23.1 in c:\\users\\61401\\appdata\\local\\programs\\python\\python39\\lib\\site-packages (from tensorflow-intel==2.13.0->tensorflow>=2.7.2->lightweight_mmm) (0.31.0)\n",
      "Collecting joblib>=1.1.1 (from scikit-learn->lightweight_mmm)\n",
      "  Obtaining dependency information for joblib>=1.1.1 from https://files.pythonhosted.org/packages/28/08/9dcdaa5aac4634e4c23af26d92121f7ce445c630efa0d3037881ae2407fb/joblib-1.3.1-py3-none-any.whl.metadata\n",
      "  Using cached joblib-1.3.1-py3-none-any.whl.metadata (5.4 kB)\n",
      "Requirement already satisfied: threadpoolctl>=2.0.0 in c:\\users\\61401\\appdata\\local\\programs\\python\\python39\\lib\\site-packages (from scikit-learn->lightweight_mmm) (3.2.0)\n",
      "Requirement already satisfied: zipp>=0.5 in c:\\users\\61401\\appdata\\local\\programs\\python\\python39\\lib\\site-packages (from importlib-metadata>=4.6->jax>=0.3.18->lightweight_mmm) (3.15.0)\n",
      "Requirement already satisfied: colorama in c:\\users\\61401\\appdata\\local\\programs\\python\\python39\\lib\\site-packages (from tqdm->numpyro>=0.9.2->lightweight_mmm) (0.4.4)\n",
      "Requirement already satisfied: wheel<1.0,>=0.23.0 in c:\\users\\61401\\appdata\\local\\programs\\python\\python39\\lib\\site-packages (from astunparse>=1.6.0->tensorflow-intel==2.13.0->tensorflow>=2.7.2->lightweight_mmm) (0.40.0)\n",
      "Collecting google-auth<3,>=1.6.3 (from tensorboard<2.14,>=2.13->tensorflow-intel==2.13.0->tensorflow>=2.7.2->lightweight_mmm)\n",
      "  Obtaining dependency information for google-auth<3,>=1.6.3 from https://files.pythonhosted.org/packages/9c/8d/bff87fc722553a5691d8514da5523c23547f3894189ba03b57592e37bdc2/google_auth-2.22.0-py2.py3-none-any.whl.metadata\n",
      "  Using cached google_auth-2.22.0-py2.py3-none-any.whl.metadata (4.2 kB)\n",
      "Collecting google-auth-oauthlib<1.1,>=0.5 (from tensorboard<2.14,>=2.13->tensorflow-intel==2.13.0->tensorflow>=2.7.2->lightweight_mmm)\n",
      "  Using cached google_auth_oauthlib-1.0.0-py2.py3-none-any.whl (18 kB)\n",
      "Collecting markdown>=2.6.8 (from tensorboard<2.14,>=2.13->tensorflow-intel==2.13.0->tensorflow>=2.7.2->lightweight_mmm)\n",
      "  Using cached Markdown-3.4.3-py3-none-any.whl (93 kB)\n",
      "Requirement already satisfied: requests<3,>=2.21.0 in c:\\users\\61401\\appdata\\local\\programs\\python\\python39\\lib\\site-packages (from tensorboard<2.14,>=2.13->tensorflow-intel==2.13.0->tensorflow>=2.7.2->lightweight_mmm) (2.31.0)\n",
      "Requirement already satisfied: tensorboard-data-server<0.8.0,>=0.7.0 in c:\\users\\61401\\appdata\\local\\programs\\python\\python39\\lib\\site-packages (from tensorboard<2.14,>=2.13->tensorflow-intel==2.13.0->tensorflow>=2.7.2->lightweight_mmm) (0.7.1)\n",
      "Requirement already satisfied: werkzeug>=1.0.1 in c:\\users\\61401\\appdata\\local\\programs\\python\\python39\\lib\\site-packages (from tensorboard<2.14,>=2.13->tensorflow-intel==2.13.0->tensorflow>=2.7.2->lightweight_mmm) (2.3.6)\n",
      "Requirement already satisfied: cachetools<6.0,>=2.0.0 in c:\\users\\61401\\appdata\\local\\programs\\python\\python39\\lib\\site-packages (from google-auth<3,>=1.6.3->tensorboard<2.14,>=2.13->tensorflow-intel==2.13.0->tensorflow>=2.7.2->lightweight_mmm) (5.3.1)\n",
      "Collecting pyasn1-modules>=0.2.1 (from google-auth<3,>=1.6.3->tensorboard<2.14,>=2.13->tensorflow-intel==2.13.0->tensorflow>=2.7.2->lightweight_mmm)\n",
      "  Using cached pyasn1_modules-0.3.0-py2.py3-none-any.whl (181 kB)\n",
      "Collecting rsa<5,>=3.1.4 (from google-auth<3,>=1.6.3->tensorboard<2.14,>=2.13->tensorflow-intel==2.13.0->tensorflow>=2.7.2->lightweight_mmm)\n",
      "  Using cached rsa-4.9-py3-none-any.whl (34 kB)\n",
      "Requirement already satisfied: urllib3<2.0 in c:\\users\\61401\\appdata\\local\\programs\\python\\python39\\lib\\site-packages (from google-auth<3,>=1.6.3->tensorboard<2.14,>=2.13->tensorflow-intel==2.13.0->tensorflow>=2.7.2->lightweight_mmm) (1.26.16)\n",
      "Collecting requests-oauthlib>=0.7.0 (from google-auth-oauthlib<1.1,>=0.5->tensorboard<2.14,>=2.13->tensorflow-intel==2.13.0->tensorflow>=2.7.2->lightweight_mmm)\n",
      "  Using cached requests_oauthlib-1.3.1-py2.py3-none-any.whl (23 kB)\n",
      "Requirement already satisfied: charset-normalizer<4,>=2 in c:\\users\\61401\\appdata\\local\\programs\\python\\python39\\lib\\site-packages (from requests<3,>=2.21.0->tensorboard<2.14,>=2.13->tensorflow-intel==2.13.0->tensorflow>=2.7.2->lightweight_mmm) (3.1.0)\n",
      "Requirement already satisfied: idna<4,>=2.5 in c:\\users\\61401\\appdata\\local\\programs\\python\\python39\\lib\\site-packages (from requests<3,>=2.21.0->tensorboard<2.14,>=2.13->tensorflow-intel==2.13.0->tensorflow>=2.7.2->lightweight_mmm) (3.4)\n",
      "Requirement already satisfied: certifi>=2017.4.17 in c:\\users\\61401\\appdata\\local\\programs\\python\\python39\\lib\\site-packages (from requests<3,>=2.21.0->tensorboard<2.14,>=2.13->tensorflow-intel==2.13.0->tensorflow>=2.7.2->lightweight_mmm) (2023.5.7)\n",
      "Requirement already satisfied: MarkupSafe>=2.1.1 in c:\\users\\61401\\appdata\\local\\programs\\python\\python39\\lib\\site-packages (from werkzeug>=1.0.1->tensorboard<2.14,>=2.13->tensorflow-intel==2.13.0->tensorflow>=2.7.2->lightweight_mmm) (2.1.3)\n",
      "Requirement already satisfied: pyasn1<0.6.0,>=0.4.6 in c:\\users\\61401\\appdata\\local\\programs\\python\\python39\\lib\\site-packages (from pyasn1-modules>=0.2.1->google-auth<3,>=1.6.3->tensorboard<2.14,>=2.13->tensorflow-intel==2.13.0->tensorflow>=2.7.2->lightweight_mmm) (0.5.0)\n",
      "Requirement already satisfied: oauthlib>=3.0.0 in c:\\users\\61401\\appdata\\local\\programs\\python\\python39\\lib\\site-packages (from requests-oauthlib>=0.7.0->google-auth-oauthlib<1.1,>=0.5->tensorboard<2.14,>=2.13->tensorflow-intel==2.13.0->tensorflow>=2.7.2->lightweight_mmm) (3.2.2)\n",
      "Using cached lightweight_mmm-0.1.9-py3-none-any.whl (105 kB)\n",
      "Using cached immutabledict-2.2.5-py3-none-any.whl (4.1 kB)\n",
      "Using cached tensorflow-2.13.0-cp39-cp39-win_amd64.whl (1.9 kB)\n",
      "Using cached tensorflow_intel-2.13.0-cp39-cp39-win_amd64.whl (276.5 MB)\n",
      "Using cached scikit_learn-1.3.0-cp39-cp39-win_amd64.whl (9.3 MB)\n",
      "Using cached joblib-1.3.1-py3-none-any.whl (301 kB)\n",
      "Using cached grpcio-1.56.0-cp39-cp39-win_amd64.whl (4.2 MB)\n",
      "Using cached keras-2.13.1-py3-none-any.whl (1.7 MB)\n",
      "Using cached google_auth-2.22.0-py2.py3-none-any.whl (181 kB)\n",
      "Installing collected packages: rsa, pyasn1-modules, patsy, keras, joblib, immutabledict, grpcio, google-pasta, gast, astunparse, absl-py, scikit-learn, requests-oauthlib, matplotlib, markdown, google-auth, statsmodels, seaborn, google-auth-oauthlib, tensorboard, tensorflow-intel, tensorflow, lightweight_mmm\n",
      "  Attempting uninstall: matplotlib\n",
      "    Found existing installation: matplotlib 3.7.1\n",
      "    Uninstalling matplotlib-3.7.1:\n",
      "      Successfully uninstalled matplotlib-3.7.1\n",
      "Successfully installed absl-py-1.4.0 astunparse-1.6.3 gast-0.4.0 google-auth-2.22.0 google-auth-oauthlib-1.0.0 google-pasta-0.2.0 grpcio-1.56.0 immutabledict-2.2.5 joblib-1.3.1 keras-2.13.1 lightweight_mmm-0.1.9 markdown-3.4.3 matplotlib-3.6.1 patsy-0.5.3 pyasn1-modules-0.3.0 requests-oauthlib-1.3.1 rsa-4.9 scikit-learn-1.3.0 seaborn-0.11.1 statsmodels-0.14.0 tensorboard-2.13.0 tensorflow-2.13.0 tensorflow-intel-2.13.0\n"
     ]
    }
   ],
   "source": [
    "pip install lightweight_mmm"
   ]
  },
  {
   "cell_type": "code",
   "execution_count": 7,
   "metadata": {},
   "outputs": [
    {
     "name": "stderr",
     "output_type": "stream",
     "text": [
      "c:\\Users\\61401\\AppData\\Local\\Programs\\Python\\Python39\\lib\\site-packages\\tqdm\\auto.py:21: TqdmWarning: IProgress not found. Please update jupyter and ipywidgets. See https://ipywidgets.readthedocs.io/en/stable/user_install.html\n",
      "  from .autonotebook import tqdm as notebook_tqdm\n"
     ]
    }
   ],
   "source": [
    "from lightweight_mmm import lightweight_mmm\n",
    "from lightweight_mmm import optimize_media\n",
    "from lightweight_mmm import plot\n",
    "from lightweight_mmm import preprocessing\n",
    "from lightweight_mmm import utils"
   ]
  },
  {
   "cell_type": "code",
   "execution_count": 55,
   "metadata": {},
   "outputs": [],
   "source": [
    "import pandas as pd\n",
    "df=pd.read_csv(\"https://raw.githubusercontent.com/sibylhe/mmm_stan/main/data.csv\")"
   ]
  },
  {
   "cell_type": "code",
   "execution_count": 56,
   "metadata": {},
   "outputs": [],
   "source": [
    "mdsp_cols=[col for col in df.columns if 'mdsp' in col and col !='mdsp_viddig' and col != 'mdsp_auddig' and col != 'mdsp_sem']\n",
    "holiday_co=[col for col in df.columns if 'hldy' in col]\n",
    "seas_col=[col for col in df.columns if 'seas' in col]\n",
    "control_variable=holiday_co+seas_col\n",
    "sales_col=['sales']"
   ]
  },
  {
   "cell_type": "code",
   "execution_count": 57,
   "metadata": {},
   "outputs": [],
   "source": [
    "df_main = df[['wk_strt_dt']+sales_col+mdsp_cols+control_variable]\n",
    "df_main = df_main.rename(columns={'mdsp_dm': 'Direct Mail', 'mdsp_inst': 'Insert', 'mdsp_nsp': 'Newspaper', 'mdsp_audtr': 'Radio', 'mdsp_vidtr': 'TV', 'mdsp_so': 'Social Media', 'mdsp_on': 'Online Display'})\n",
    "mdsp_cols = [\"Direct Mail\",\"Insert\", \"Newspaper\", \"Radio\", \"TV\", \"Social Media\", \"Online Display\"]"
   ]
  },
  {
   "cell_type": "code",
   "execution_count": 58,
   "metadata": {},
   "outputs": [],
   "source": [
    "data_size=df.shape[0]\n",
    "n_media_channel=len(mdsp_cols)\n",
    "n_extra_features=len(control_variable)\n",
    "media_data=df_main[mdsp_cols].to_numpy()\n",
    "extra_feature=df_main[control_variable].to_numpy()\n",
    "target=df_main[sales_col].to_numpy()\n",
    "cost=df_main[mdsp_cols].sum().to_numpy()\n",
    "\n",
    "test_data_period_size=24\n",
    "split_point=data_size-test_data_period_size\n",
    "\n",
    "\n",
    "media_data_train=media_data[:split_point,]\n",
    "media_data_test=media_data[split_point:,]\n",
    "\n",
    "extra_feature_train=extra_feature[:split_point,]\n",
    "extra_feature_test=extra_feature[split_point:,]\n",
    "\n",
    "target_train=target[:split_point]\n",
    "target_test=target[split_point:]\n",
    "\n"
   ]
  },
  {
   "cell_type": "code",
   "execution_count": 59,
   "metadata": {},
   "outputs": [
    {
     "data": {
      "text/plain": [
       "array([1.58373363e+08, 1.66102455e+07, 5.32036266e+07, 2.56247164e+07,\n",
       "       3.51451521e+07, 2.13202038e+07, 4.51155756e+07])"
      ]
     },
     "execution_count": 59,
     "metadata": {},
     "output_type": "execute_result"
    }
   ],
   "source": [
    "cost"
   ]
  },
  {
   "cell_type": "code",
   "execution_count": 53,
   "metadata": {},
   "outputs": [],
   "source": [
    "media_scalar=preprocessing.CustomScaler(divide_operation=jnp.mean)\n",
    "extra_scalar=preprocessing.CustomScaler(divide_operation=jnp.mean)\n",
    "target_scalar=preprocessing.CustomScaler(divide_operation=jnp.mean)\n",
    "cost_scaler = preprocessing.CustomScaler(divide_operation=jnp.mean, multiply_by=0.15)\n",
    "\n",
    "\n",
    "media_data_train=media_scalar.fit_transform(media_data_train)\n",
    "\n",
    "extra_feature_train=extra_scalar.fit_transform(extra_feature_train)\n",
    "\n",
    "target_train=target_scalar.fit_transform(target_train)\n",
    "\n",
    "cost=cost_scaler.fit_transform(cost)\n"
   ]
  },
  {
   "cell_type": "code",
   "execution_count": 71,
   "metadata": {},
   "outputs": [
    {
     "name": "stderr",
     "output_type": "stream",
     "text": [
      "c:\\Users\\61401\\AppData\\Local\\Programs\\Python\\Python39\\lib\\site-packages\\lightweight_mmm\\lightweight_mmm.py:358: UserWarning: There are not enough devices to run parallel chains: expected 2 but got 1. Chains will be drawn sequentially. If you are running MCMC in CPU, consider using `numpyro.set_host_device_count(2)` at the beginning of your program. You can double-check how many devices are available in your system using `jax.local_device_count()`.\n",
      "  mcmc = numpyro.infer.MCMC(\n",
      "sample: 100%|██████████| 4000/4000 [12:00<00:00,  5.55it/s, 1023 steps of size 5.32e-05. acc. prob=0.83]\n",
      "sample: 100%|██████████| 4000/4000 [12:17<00:00,  5.42it/s, 1023 steps of size 6.22e-05. acc. prob=0.88]\n"
     ]
    }
   ],
   "source": [
    "mmm = lightweight_mmm.LightweightMMM(model_name=\"hill_adstock\")\n",
    "mmm.fit( media=media_data_train, media_prior=cost, target=target_train, extra_features=extra_feature_train, media_names = mdsp_cols, seed=105,number_warmup=2000,number_samples=2000)"
   ]
  },
  {
   "cell_type": "code",
   "execution_count": 72,
   "metadata": {},
   "outputs": [
    {
     "name": "stdout",
     "output_type": "stream",
     "text": [
      "\n",
      "                                         mean       std    median      5.0%     95.0%     n_eff     r_hat\n",
      "             coef_extra_features[0]      0.29      0.51      0.29     -0.22      0.80      1.00    458.64\n",
      "             coef_extra_features[1]     -0.27      0.20     -0.27     -0.48     -0.07      1.00    192.87\n",
      "             coef_extra_features[2]      0.47      0.52      0.47     -0.05      0.99      1.00    586.55\n",
      "             coef_extra_features[3]     -0.41      0.43     -0.41     -0.85      0.02      1.00    709.01\n",
      "             coef_extra_features[4]      0.50      0.15      0.50      0.34      0.65      1.00    343.53\n",
      "             coef_extra_features[5]      0.39      0.10      0.39      0.29      0.49      1.00    165.50\n",
      "             coef_extra_features[6]     -0.01      0.16     -0.01     -0.18      0.15      1.00    231.50\n",
      "             coef_extra_features[7]      0.51      0.37      0.51      0.14      0.89      1.00    769.96\n",
      "             coef_extra_features[8]      0.22      0.24      0.22     -0.02      0.47      1.00    403.33\n",
      "             coef_extra_features[9]     -0.17      0.21     -0.17     -0.38      0.04      1.00    378.65\n",
      "            coef_extra_features[10]     -0.11      0.23     -0.11     -0.34      0.11      1.00    306.69\n",
      "            coef_extra_features[11]     -0.43      0.04     -0.43     -0.47     -0.39      1.00     56.23\n",
      "            coef_extra_features[12]      0.52      0.34      0.52      0.17      0.86      1.00    448.58\n",
      "            coef_extra_features[13]     -0.26      0.01     -0.26     -0.27     -0.25      1.01     17.70\n",
      "            coef_extra_features[14]     -0.12      0.32     -0.12     -0.44      0.20      1.00    444.51\n",
      "            coef_extra_features[15]      0.17      0.25      0.17     -0.09      0.42      1.00    345.57\n",
      "            coef_extra_features[16]     -0.25      0.60     -0.26     -0.86      0.35      1.00    710.20\n",
      "            coef_extra_features[17]     -0.22      0.73     -0.22     -0.95      0.52      1.00   1250.25\n",
      "            coef_extra_features[18]      0.31      0.25      0.31      0.06      0.56      1.00    279.85\n",
      "            coef_extra_features[19]     -0.14      0.43     -0.14     -0.57      0.29      1.00    610.03\n",
      "            coef_extra_features[20]      0.06      0.02      0.06      0.04      0.07      1.00     29.67\n",
      "            coef_extra_features[21]     -0.73      0.25     -0.73     -0.98     -0.48      1.00    346.75\n",
      "            coef_extra_features[22]     -0.11      0.16     -0.11     -0.27      0.04      1.00    320.25\n",
      "            coef_extra_features[23]     -0.41      0.33     -0.41     -0.74     -0.08      1.00    383.45\n",
      "            coef_extra_features[24]      0.41      0.31      0.41      0.10      0.71      1.00    358.75\n",
      "            coef_extra_features[25]      0.15      0.00      0.15      0.15      0.16      1.09      4.83\n",
      "            coef_extra_features[26]      0.04      0.33      0.04     -0.28      0.37      1.00    434.20\n",
      "            coef_extra_features[27]     -0.10      0.03     -0.10     -0.12     -0.07      1.00     40.71\n",
      "            coef_extra_features[28]      0.11      0.72      0.11     -0.61      0.83      1.00    624.54\n",
      "            coef_extra_features[29]      0.10      0.02      0.10      0.08      0.13      1.00     37.21\n",
      "            coef_extra_features[30]      0.13      0.04      0.13      0.09      0.17      1.00     50.94\n",
      "            coef_extra_features[31]      0.25      0.36      0.25     -0.11      0.61      1.00    501.54\n",
      "            coef_extra_features[32]      0.82      0.78      0.82      0.04      1.60      1.00    936.96\n",
      "            coef_extra_features[33]      0.26      0.19      0.26      0.07      0.46      1.00    265.39\n",
      "            coef_extra_features[34]      0.47      0.00      0.47      0.47      0.47      8.03      1.30\n",
      "            coef_extra_features[35]      0.26      0.39      0.26     -0.12      0.65      1.00    360.56\n",
      "            coef_extra_features[36]      0.10      0.40      0.10     -0.30      0.50      1.00    757.06\n",
      "            coef_extra_features[37]     -0.92      0.15     -0.92     -1.07     -0.77      1.00    179.68\n",
      "            coef_extra_features[38]      1.21      0.47      1.21      0.74      1.69      1.00    766.47\n",
      "            coef_extra_features[39]      0.66      0.57      0.66      0.09      1.22      1.00    542.86\n",
      "            coef_extra_features[40]     -0.43      0.03     -0.43     -0.46     -0.40      1.00     41.60\n",
      "                      coef_media[0] 31151234.00 7386745.00 31152200.00 23766318.00 38538080.00      1.00  49780.89\n",
      "                      coef_media[1] 5076188.50 2242405.50 5076061.00 2834159.50 7319371.50      1.00   6409.12\n",
      "                      coef_media[2] 25331084.00 1118417.38 25330060.00 24211780.00 26448340.00      1.00   5180.93\n",
      "                      coef_media[3] 12369148.00 2567017.00 12369588.00 9802915.00 14936260.00      1.00  28768.28\n",
      "                      coef_media[4] 11298701.00 1130247.25 11299056.00 10168950.00 12429162.00      1.00  22258.16\n",
      "                      coef_media[5] 454111.59 280297.88 453756.81 173838.78 734803.62      1.00   1478.25\n",
      "                      coef_media[6] 23775658.00 7376252.50 23775792.00 16400362.00 31151222.00      1.00  34333.57\n",
      "                      coef_trend[0]      0.04      0.00      0.04      0.03      0.04      6.98      1.36\n",
      "                         expo_trend      1.20      0.10      1.20      1.10      1.31      1.00    764.08\n",
      "             gamma_seasonality[0,0]      0.08      0.31      0.08     -0.24      0.39      1.00    383.21\n",
      "             gamma_seasonality[0,1]     -0.19      0.02     -0.19     -0.21     -0.16      1.00     26.07\n",
      "             gamma_seasonality[1,0]     -0.46      0.08     -0.46     -0.54     -0.38      1.00    148.47\n",
      "             gamma_seasonality[1,1]      0.03      0.57      0.03     -0.54      0.61      1.00   1020.11\n",
      "half_max_effective_concentration[0]      0.49      0.13      0.49      0.35      0.62      1.00    538.85\n",
      "half_max_effective_concentration[1]      0.93      0.06      0.93      0.87      0.99      1.00     85.94\n",
      "half_max_effective_concentration[2]      1.63      0.63      1.63      1.00      2.27      1.00    565.13\n",
      "half_max_effective_concentration[3]      0.45      0.12      0.45      0.33      0.57      1.00    249.03\n",
      "half_max_effective_concentration[4]      1.35      0.90      1.35      0.45      2.26      1.00    805.23\n",
      "half_max_effective_concentration[5]      0.75      0.27      0.75      0.48      1.03      1.00    538.75\n",
      "half_max_effective_concentration[6]      0.79      0.12      0.79      0.67      0.92      1.00    183.08\n",
      "                       intercept[0]      1.55      0.48      1.55      1.07      2.04      1.00    625.17\n",
      "                      lag_weight[0]      0.73      0.12      0.73      0.61      0.85      1.00    741.72\n",
      "                      lag_weight[1]      0.59      0.04      0.59      0.54      0.63      1.00    348.05\n",
      "                      lag_weight[2]      0.64      0.02      0.64      0.62      0.66      1.00     75.10\n",
      "                      lag_weight[3]      0.72      0.10      0.72      0.61      0.82      1.00    852.35\n",
      "                      lag_weight[4]      0.66      0.15      0.66      0.51      0.81      1.00   1192.74\n",
      "                      lag_weight[5]      0.65      0.07      0.65      0.58      0.72      1.00    382.12\n",
      "                      lag_weight[6]      0.78      0.04      0.78      0.74      0.82      1.00    257.58\n",
      "                           sigma[0] 4794032.50   1166.64 4793553.00 4793020.50 4795745.50       nan      4.43\n",
      "                           slope[0]      0.85      0.16      0.85      0.68      1.01      1.00    229.32\n",
      "                           slope[1]      1.01      0.46      1.01      0.54      1.47      1.00    457.19\n",
      "                           slope[2]      0.84      0.03      0.84      0.81      0.88      1.00     59.40\n",
      "                           slope[3]      0.59      0.18      0.59      0.41      0.78      1.00    418.50\n",
      "                           slope[4]      0.71      0.03      0.71      0.68      0.75      1.00     61.73\n",
      "                           slope[5]      0.73      0.04      0.73      0.69      0.78      1.00     77.45\n",
      "                           slope[6]      0.77      0.05      0.77      0.72      0.83      1.00     92.26\n",
      "\n",
      "Number of divergences: 0\n"
     ]
    }
   ],
   "source": [
    "mmm.print_summary()"
   ]
  },
  {
   "cell_type": "code",
   "execution_count": 68,
   "metadata": {},
   "outputs": [
    {
     "ename": "TypeError",
     "evalue": "sub got incompatible shapes for broadcasting: (185, 1), (2000, 185).",
     "output_type": "error",
     "traceback": [
      "\u001b[1;31m---------------------------------------------------------------------------\u001b[0m",
      "\u001b[1;31mTypeError\u001b[0m                                 Traceback (most recent call last)",
      "\u001b[1;32m~\\AppData\\Local\\Temp/ipykernel_19576/2059686528.py\u001b[0m in \u001b[0;36m<module>\u001b[1;34m\u001b[0m\n\u001b[1;32m----> 1\u001b[1;33m \u001b[0mplot\u001b[0m\u001b[1;33m.\u001b[0m\u001b[0mplot_model_fit\u001b[0m\u001b[1;33m(\u001b[0m\u001b[0mmmm\u001b[0m\u001b[1;33m,\u001b[0m \u001b[0mtarget_scaler\u001b[0m\u001b[1;33m=\u001b[0m\u001b[0mtarget_scalar\u001b[0m\u001b[1;33m)\u001b[0m\u001b[1;33m\u001b[0m\u001b[1;33m\u001b[0m\u001b[0m\n\u001b[0m",
      "\u001b[1;32mc:\\Users\\61401\\AppData\\Local\\Programs\\Python\\Python39\\lib\\site-packages\\lightweight_mmm\\plot.py\u001b[0m in \u001b[0;36mplot_model_fit\u001b[1;34m(media_mix_model, target_scaler, interval_mid_range, digits)\u001b[0m\n\u001b[0;32m    736\u001b[0m     \u001b[0mtarget_train\u001b[0m \u001b[1;33m=\u001b[0m \u001b[0mtarget_scaler\u001b[0m\u001b[1;33m.\u001b[0m\u001b[0minverse_transform\u001b[0m\u001b[1;33m(\u001b[0m\u001b[0mtarget_train\u001b[0m\u001b[1;33m)\u001b[0m\u001b[1;33m\u001b[0m\u001b[1;33m\u001b[0m\u001b[0m\n\u001b[0;32m    737\u001b[0m \u001b[1;33m\u001b[0m\u001b[0m\n\u001b[1;32m--> 738\u001b[1;33m   return _call_fit_plotter(\n\u001b[0m\u001b[0;32m    739\u001b[0m       \u001b[0mpredictions\u001b[0m\u001b[1;33m=\u001b[0m\u001b[0mposterior_pred\u001b[0m\u001b[1;33m,\u001b[0m\u001b[1;33m\u001b[0m\u001b[1;33m\u001b[0m\u001b[0m\n\u001b[0;32m    740\u001b[0m       \u001b[0mtarget\u001b[0m\u001b[1;33m=\u001b[0m\u001b[0mtarget_train\u001b[0m\u001b[1;33m,\u001b[0m\u001b[1;33m\u001b[0m\u001b[1;33m\u001b[0m\u001b[0m\n",
      "\u001b[1;32mc:\\Users\\61401\\AppData\\Local\\Programs\\Python\\Python39\\lib\\site-packages\\lightweight_mmm\\plot.py\u001b[0m in \u001b[0;36m_call_fit_plotter\u001b[1;34m(predictions, target, interval_mid_range, digits)\u001b[0m\n\u001b[0;32m    699\u001b[0m   \u001b[1;32melse\u001b[0m\u001b[1;33m:\u001b[0m  \u001b[1;31m# Single plot for national model\u001b[0m\u001b[1;33m\u001b[0m\u001b[1;33m\u001b[0m\u001b[0m\n\u001b[0;32m    700\u001b[0m     \u001b[0mfigure\u001b[0m\u001b[1;33m,\u001b[0m \u001b[0max\u001b[0m \u001b[1;33m=\u001b[0m \u001b[0mplt\u001b[0m\u001b[1;33m.\u001b[0m\u001b[0msubplots\u001b[0m\u001b[1;33m(\u001b[0m\u001b[1;36m1\u001b[0m\u001b[1;33m,\u001b[0m \u001b[1;36m1\u001b[0m\u001b[1;33m)\u001b[0m\u001b[1;33m\u001b[0m\u001b[1;33m\u001b[0m\u001b[0m\n\u001b[1;32m--> 701\u001b[1;33m     _create_shaded_line_plot(predictions=predictions,\n\u001b[0m\u001b[0;32m    702\u001b[0m                              \u001b[0mtarget\u001b[0m\u001b[1;33m=\u001b[0m\u001b[0mtarget\u001b[0m\u001b[1;33m,\u001b[0m\u001b[1;33m\u001b[0m\u001b[1;33m\u001b[0m\u001b[0m\n\u001b[0;32m    703\u001b[0m                              \u001b[0maxis\u001b[0m\u001b[1;33m=\u001b[0m\u001b[0max\u001b[0m\u001b[1;33m,\u001b[0m\u001b[1;33m\u001b[0m\u001b[1;33m\u001b[0m\u001b[0m\n",
      "\u001b[1;32mc:\\Users\\61401\\AppData\\Local\\Programs\\Python\\Python39\\lib\\site-packages\\lightweight_mmm\\plot.py\u001b[0m in \u001b[0;36m_create_shaded_line_plot\u001b[1;34m(predictions, target, axis, title_prefix, interval_mid_range, digits)\u001b[0m\n\u001b[0;32m    640\u001b[0m   \u001b[0mlower_bound\u001b[0m \u001b[1;33m=\u001b[0m \u001b[0mjnp\u001b[0m\u001b[1;33m.\u001b[0m\u001b[0mquantile\u001b[0m\u001b[1;33m(\u001b[0m\u001b[0ma\u001b[0m\u001b[1;33m=\u001b[0m\u001b[0mpredictions\u001b[0m\u001b[1;33m,\u001b[0m \u001b[0mq\u001b[0m\u001b[1;33m=\u001b[0m\u001b[0mlower_quantile\u001b[0m\u001b[1;33m,\u001b[0m \u001b[0maxis\u001b[0m\u001b[1;33m=\u001b[0m\u001b[1;36m0\u001b[0m\u001b[1;33m)\u001b[0m\u001b[1;33m\u001b[0m\u001b[1;33m\u001b[0m\u001b[0m\n\u001b[0;32m    641\u001b[0m \u001b[1;33m\u001b[0m\u001b[0m\n\u001b[1;32m--> 642\u001b[1;33m   \u001b[0mr2\u001b[0m\u001b[1;33m,\u001b[0m \u001b[0m_\u001b[0m \u001b[1;33m=\u001b[0m \u001b[0marviz\u001b[0m\u001b[1;33m.\u001b[0m\u001b[0mr2_score\u001b[0m\u001b[1;33m(\u001b[0m\u001b[0my_true\u001b[0m\u001b[1;33m=\u001b[0m\u001b[0mtarget\u001b[0m\u001b[1;33m,\u001b[0m \u001b[0my_pred\u001b[0m\u001b[1;33m=\u001b[0m\u001b[0mpredictions\u001b[0m\u001b[1;33m)\u001b[0m\u001b[1;33m\u001b[0m\u001b[1;33m\u001b[0m\u001b[0m\n\u001b[0m\u001b[0;32m    643\u001b[0m   mape = 100 * metrics.mean_absolute_percentage_error(\n\u001b[0;32m    644\u001b[0m       y_true=target, y_pred=predictions.mean(axis=0))\n",
      "\u001b[1;32mc:\\Users\\61401\\AppData\\Local\\Programs\\Python\\Python39\\lib\\site-packages\\arviz\\stats\\stats.py\u001b[0m in \u001b[0;36mr2_score\u001b[1;34m(y_true, y_pred)\u001b[0m\n\u001b[0;32m   1157\u001b[0m \u001b[1;33m\u001b[0m\u001b[0m\n\u001b[0;32m   1158\u001b[0m     \"\"\"\n\u001b[1;32m-> 1159\u001b[1;33m     \u001b[0mr_squared\u001b[0m \u001b[1;33m=\u001b[0m \u001b[0mr2_samples\u001b[0m\u001b[1;33m(\u001b[0m\u001b[0my_true\u001b[0m\u001b[1;33m=\u001b[0m\u001b[0my_true\u001b[0m\u001b[1;33m,\u001b[0m \u001b[0my_pred\u001b[0m\u001b[1;33m=\u001b[0m\u001b[0my_pred\u001b[0m\u001b[1;33m)\u001b[0m\u001b[1;33m\u001b[0m\u001b[1;33m\u001b[0m\u001b[0m\n\u001b[0m\u001b[0;32m   1160\u001b[0m     \u001b[1;32mreturn\u001b[0m \u001b[0mpd\u001b[0m\u001b[1;33m.\u001b[0m\u001b[0mSeries\u001b[0m\u001b[1;33m(\u001b[0m\u001b[1;33m[\u001b[0m\u001b[0mnp\u001b[0m\u001b[1;33m.\u001b[0m\u001b[0mmean\u001b[0m\u001b[1;33m(\u001b[0m\u001b[0mr_squared\u001b[0m\u001b[1;33m)\u001b[0m\u001b[1;33m,\u001b[0m \u001b[0mnp\u001b[0m\u001b[1;33m.\u001b[0m\u001b[0mstd\u001b[0m\u001b[1;33m(\u001b[0m\u001b[0mr_squared\u001b[0m\u001b[1;33m)\u001b[0m\u001b[1;33m]\u001b[0m\u001b[1;33m,\u001b[0m \u001b[0mindex\u001b[0m\u001b[1;33m=\u001b[0m\u001b[1;33m[\u001b[0m\u001b[1;34m\"r2\"\u001b[0m\u001b[1;33m,\u001b[0m \u001b[1;34m\"r2_std\"\u001b[0m\u001b[1;33m]\u001b[0m\u001b[1;33m)\u001b[0m\u001b[1;33m\u001b[0m\u001b[1;33m\u001b[0m\u001b[0m\n\u001b[0;32m   1161\u001b[0m \u001b[1;33m\u001b[0m\u001b[0m\n",
      "\u001b[1;32mc:\\Users\\61401\\AppData\\Local\\Programs\\Python\\Python39\\lib\\site-packages\\arviz\\stats\\stats.py\u001b[0m in \u001b[0;36mr2_samples\u001b[1;34m(y_true, y_pred)\u001b[0m\n\u001b[0;32m   1118\u001b[0m     \u001b[1;32melse\u001b[0m\u001b[1;33m:\u001b[0m\u001b[1;33m\u001b[0m\u001b[1;33m\u001b[0m\u001b[0m\n\u001b[0;32m   1119\u001b[0m         \u001b[0mvar_y_est\u001b[0m \u001b[1;33m=\u001b[0m \u001b[0m_numba_var\u001b[0m\u001b[1;33m(\u001b[0m\u001b[0msvar\u001b[0m\u001b[1;33m,\u001b[0m \u001b[0mnp\u001b[0m\u001b[1;33m.\u001b[0m\u001b[0mvar\u001b[0m\u001b[1;33m,\u001b[0m \u001b[0my_pred\u001b[0m\u001b[1;33m,\u001b[0m \u001b[0maxis\u001b[0m\u001b[1;33m=\u001b[0m\u001b[1;36m1\u001b[0m\u001b[1;33m)\u001b[0m\u001b[1;33m\u001b[0m\u001b[1;33m\u001b[0m\u001b[0m\n\u001b[1;32m-> 1120\u001b[1;33m         \u001b[0mvar_e\u001b[0m \u001b[1;33m=\u001b[0m \u001b[0m_numba_var\u001b[0m\u001b[1;33m(\u001b[0m\u001b[0msvar\u001b[0m\u001b[1;33m,\u001b[0m \u001b[0mnp\u001b[0m\u001b[1;33m.\u001b[0m\u001b[0mvar\u001b[0m\u001b[1;33m,\u001b[0m \u001b[1;33m(\u001b[0m\u001b[0my_true\u001b[0m \u001b[1;33m-\u001b[0m \u001b[0my_pred\u001b[0m\u001b[1;33m)\u001b[0m\u001b[1;33m,\u001b[0m \u001b[0maxis\u001b[0m\u001b[1;33m=\u001b[0m\u001b[1;36m1\u001b[0m\u001b[1;33m)\u001b[0m\u001b[1;33m\u001b[0m\u001b[1;33m\u001b[0m\u001b[0m\n\u001b[0m\u001b[0;32m   1121\u001b[0m     \u001b[0mr_squared\u001b[0m \u001b[1;33m=\u001b[0m \u001b[0mvar_y_est\u001b[0m \u001b[1;33m/\u001b[0m \u001b[1;33m(\u001b[0m\u001b[0mvar_y_est\u001b[0m \u001b[1;33m+\u001b[0m \u001b[0mvar_e\u001b[0m\u001b[1;33m)\u001b[0m\u001b[1;33m\u001b[0m\u001b[1;33m\u001b[0m\u001b[0m\n\u001b[0;32m   1122\u001b[0m \u001b[1;33m\u001b[0m\u001b[0m\n",
      "\u001b[1;32mc:\\Users\\61401\\AppData\\Local\\Programs\\Python\\Python39\\lib\\site-packages\\jax\\_src\\numpy\\array_methods.py\u001b[0m in \u001b[0;36mdeferring_binary_op\u001b[1;34m(self, other)\u001b[0m\n\u001b[0;32m    256\u001b[0m     \u001b[0margs\u001b[0m \u001b[1;33m=\u001b[0m \u001b[1;33m(\u001b[0m\u001b[0mother\u001b[0m\u001b[1;33m,\u001b[0m \u001b[0mself\u001b[0m\u001b[1;33m)\u001b[0m \u001b[1;32mif\u001b[0m \u001b[0mswap\u001b[0m \u001b[1;32melse\u001b[0m \u001b[1;33m(\u001b[0m\u001b[0mself\u001b[0m\u001b[1;33m,\u001b[0m \u001b[0mother\u001b[0m\u001b[1;33m)\u001b[0m\u001b[1;33m\u001b[0m\u001b[1;33m\u001b[0m\u001b[0m\n\u001b[0;32m    257\u001b[0m     \u001b[1;32mif\u001b[0m \u001b[0misinstance\u001b[0m\u001b[1;33m(\u001b[0m\u001b[0mother\u001b[0m\u001b[1;33m,\u001b[0m \u001b[0m_accepted_binop_types\u001b[0m\u001b[1;33m)\u001b[0m\u001b[1;33m:\u001b[0m\u001b[1;33m\u001b[0m\u001b[1;33m\u001b[0m\u001b[0m\n\u001b[1;32m--> 258\u001b[1;33m       \u001b[1;32mreturn\u001b[0m \u001b[0mbinary_op\u001b[0m\u001b[1;33m(\u001b[0m\u001b[1;33m*\u001b[0m\u001b[0margs\u001b[0m\u001b[1;33m)\u001b[0m\u001b[1;33m\u001b[0m\u001b[1;33m\u001b[0m\u001b[0m\n\u001b[0m\u001b[0;32m    259\u001b[0m     \u001b[1;32mif\u001b[0m \u001b[0misinstance\u001b[0m\u001b[1;33m(\u001b[0m\u001b[0mother\u001b[0m\u001b[1;33m,\u001b[0m \u001b[0m_rejected_binop_types\u001b[0m\u001b[1;33m)\u001b[0m\u001b[1;33m:\u001b[0m\u001b[1;33m\u001b[0m\u001b[1;33m\u001b[0m\u001b[0m\n\u001b[0;32m    260\u001b[0m       raise TypeError(f\"unsupported operand type(s) for {opchar}: \"\n",
      "    \u001b[1;31m[... skipping hidden 12 frame]\u001b[0m\n",
      "\u001b[1;32mc:\\Users\\61401\\AppData\\Local\\Programs\\Python\\Python39\\lib\\site-packages\\jax\\_src\\numpy\\ufuncs.py\u001b[0m in \u001b[0;36m<lambda>\u001b[1;34m(x1, x2)\u001b[0m\n\u001b[0;32m     80\u001b[0m     \u001b[0mfn\u001b[0m \u001b[1;33m=\u001b[0m \u001b[1;32mlambda\u001b[0m \u001b[0mx1\u001b[0m\u001b[1;33m,\u001b[0m \u001b[0mx2\u001b[0m\u001b[1;33m,\u001b[0m \u001b[1;33m/\u001b[0m\u001b[1;33m:\u001b[0m \u001b[0mlax_fn\u001b[0m\u001b[1;33m(\u001b[0m\u001b[1;33m*\u001b[0m\u001b[0mpromote_args_numeric\u001b[0m\u001b[1;33m(\u001b[0m\u001b[0mnumpy_fn\u001b[0m\u001b[1;33m.\u001b[0m\u001b[0m__name__\u001b[0m\u001b[1;33m,\u001b[0m \u001b[0mx1\u001b[0m\u001b[1;33m,\u001b[0m \u001b[0mx2\u001b[0m\u001b[1;33m)\u001b[0m\u001b[1;33m)\u001b[0m\u001b[1;33m\u001b[0m\u001b[1;33m\u001b[0m\u001b[0m\n\u001b[0;32m     81\u001b[0m   \u001b[1;32melse\u001b[0m\u001b[1;33m:\u001b[0m\u001b[1;33m\u001b[0m\u001b[1;33m\u001b[0m\u001b[0m\n\u001b[1;32m---> 82\u001b[1;33m     \u001b[0mfn\u001b[0m \u001b[1;33m=\u001b[0m \u001b[1;32mlambda\u001b[0m \u001b[0mx1\u001b[0m\u001b[1;33m,\u001b[0m \u001b[0mx2\u001b[0m\u001b[1;33m,\u001b[0m \u001b[1;33m/\u001b[0m\u001b[1;33m:\u001b[0m \u001b[0mlax_fn\u001b[0m\u001b[1;33m(\u001b[0m\u001b[1;33m*\u001b[0m\u001b[0mpromote_args\u001b[0m\u001b[1;33m(\u001b[0m\u001b[0mnumpy_fn\u001b[0m\u001b[1;33m.\u001b[0m\u001b[0m__name__\u001b[0m\u001b[1;33m,\u001b[0m \u001b[0mx1\u001b[0m\u001b[1;33m,\u001b[0m \u001b[0mx2\u001b[0m\u001b[1;33m)\u001b[0m\u001b[1;33m)\u001b[0m\u001b[1;33m\u001b[0m\u001b[1;33m\u001b[0m\u001b[0m\n\u001b[0m\u001b[0;32m     83\u001b[0m   \u001b[0mfn\u001b[0m\u001b[1;33m.\u001b[0m\u001b[0m__qualname__\u001b[0m \u001b[1;33m=\u001b[0m \u001b[1;34mf\"jax.numpy.{numpy_fn.__name__}\"\u001b[0m\u001b[1;33m\u001b[0m\u001b[1;33m\u001b[0m\u001b[0m\n\u001b[0;32m     84\u001b[0m   \u001b[0mfn\u001b[0m \u001b[1;33m=\u001b[0m \u001b[0mjit\u001b[0m\u001b[1;33m(\u001b[0m\u001b[0mfn\u001b[0m\u001b[1;33m,\u001b[0m \u001b[0minline\u001b[0m\u001b[1;33m=\u001b[0m\u001b[1;32mTrue\u001b[0m\u001b[1;33m)\u001b[0m\u001b[1;33m\u001b[0m\u001b[1;33m\u001b[0m\u001b[0m\n",
      "    \u001b[1;31m[... skipping hidden 7 frame]\u001b[0m\n",
      "\u001b[1;32mc:\\Users\\61401\\AppData\\Local\\Programs\\Python\\Python39\\lib\\site-packages\\jax\\_src\\lax\\lax.py\u001b[0m in \u001b[0;36mbroadcasting_shape_rule\u001b[1;34m(name, *avals)\u001b[0m\n\u001b[0;32m   1577\u001b[0m         \u001b[0mresult_shape\u001b[0m\u001b[1;33m.\u001b[0m\u001b[0mappend\u001b[0m\u001b[1;33m(\u001b[0m\u001b[0mnon_1s\u001b[0m\u001b[1;33m[\u001b[0m\u001b[1;36m0\u001b[0m\u001b[1;33m]\u001b[0m\u001b[1;33m)\u001b[0m\u001b[1;33m\u001b[0m\u001b[1;33m\u001b[0m\u001b[0m\n\u001b[0;32m   1578\u001b[0m       \u001b[1;32melse\u001b[0m\u001b[1;33m:\u001b[0m\u001b[1;33m\u001b[0m\u001b[1;33m\u001b[0m\u001b[0m\n\u001b[1;32m-> 1579\u001b[1;33m         raise TypeError(f'{name} got incompatible shapes for broadcasting: '\n\u001b[0m\u001b[0;32m   1580\u001b[0m                         f'{\", \".join(map(str, map(tuple, shapes)))}.')\n\u001b[0;32m   1581\u001b[0m \u001b[1;33m\u001b[0m\u001b[0m\n",
      "\u001b[1;31mTypeError\u001b[0m: sub got incompatible shapes for broadcasting: (185, 1), (2000, 185)."
     ]
    },
    {
     "data": {
      "image/png": "[encoded data removed]",
      "text/plain": [
       "<Figure size 432x288 with 1 Axes>"
      ]
     },
     "metadata": {
      "needs_background": "light"
     },
     "output_type": "display_data"
    }
   ],
   "source": [
    "plot.plot_model_fit(mmm, target_scaler=target_scalar)"
   ]
  },
  {
   "cell_type": "code",
   "execution_count": 74,
   "metadata": {},
   "outputs": [
    {
     "name": "stderr",
     "output_type": "stream",
     "text": [
      "c:\\Users\\61401\\AppData\\Local\\Programs\\Python\\Python39\\lib\\site-packages\\lightweight_mmm\\lightweight_mmm.py:358: UserWarning: There are not enough devices to run parallel chains: expected 2 but got 1. Chains will be drawn sequentially. If you are running MCMC in CPU, consider using `numpyro.set_host_device_count(2)` at the beginning of your program. You can double-check how many devices are available in your system using `jax.local_device_count()`.\n",
      "  mcmc = numpyro.infer.MCMC(\n",
      "sample: 100%|██████████| 6000/6000 [07:20<00:00, 13.62it/s, 1023 steps of size 1.78e-03. acc. prob=0.93]\n",
      "sample: 100%|██████████| 6000/6000 [07:51<00:00, 12.72it/s, 1023 steps of size 1.36e-03. acc. prob=0.96]\n"
     ]
    }
   ],
   "source": [
    "import pandas as pd\n",
    "\n",
    "# I am not sure whether this data set is real, dummy, or simulated data, but for me, it looks more realistic than any other data I found on the internet.\n",
    "df = pd.read_csv(\"https://raw.githubusercontent.com/sibylhe/mmm_stan/main/data.csv\")\n",
    "\n",
    "# 1. media variables\n",
    "# media spending (Simplified media channel for demo)\n",
    "mdsp_cols=[col for col in df.columns if 'mdsp_' in col and col !='mdsp_viddig' and col != 'mdsp_auddig' and col != 'mdsp_sem']\n",
    "\n",
    "# 2. control variables\n",
    "# holiday variables\n",
    "hldy_cols = [col for col in df.columns if 'hldy_' in col]\n",
    "# seasonality variables\n",
    "seas_cols = [col for col in df.columns if 'seas_' in col]\n",
    "\n",
    "control_vars =  hldy_cols + seas_cols\n",
    "\n",
    "# 3. sales variables\n",
    "sales_cols =['sales']\n",
    "\n",
    "df_main = df[['wk_strt_dt']+sales_cols+mdsp_cols+control_vars]\n",
    "df_main = df_main.rename(columns={'mdsp_dm': 'Direct Mail', 'mdsp_inst': 'Insert', 'mdsp_nsp': 'Newspaper', 'mdsp_audtr': 'Radio', 'mdsp_vidtr': 'TV', 'mdsp_so': 'Social Media', 'mdsp_on': 'Online Display'})\n",
    "mdsp_cols = [\"Direct Mail\",\"Insert\", \"Newspaper\", \"Radio\", \"TV\", \"Social Media\", \"Online Display\"]\n",
    "SEED = 105\n",
    "data_size = len(df_main)\n",
    "\n",
    "n_media_channels = len(mdsp_cols)\n",
    "n_extra_features = len(control_vars)\n",
    "media_data = df_main[mdsp_cols].to_numpy()\n",
    "extra_features = df_main[control_vars].to_numpy()\n",
    "target = df_main['sales'].to_numpy()\n",
    "costs = df_main[mdsp_cols].sum().to_numpy()\n",
    "\n",
    "# Split and scale data.\n",
    "test_data_period_size = 24\n",
    "split_point = data_size - test_data_period_size\n",
    "# Media data\n",
    "media_data_train = media_data[:split_point, ...]\n",
    "media_data_test = media_data[split_point:, ...]\n",
    "# Extra features\n",
    "extra_features_train = extra_features[:split_point, ...]\n",
    "extra_features_test = extra_features[split_point:, ...]\n",
    "# Target\n",
    "target_train = target[:split_point]\n",
    "media_scaler = preprocessing.CustomScaler(divide_operation=jnp.mean)\n",
    "extra_features_scaler = preprocessing.CustomScaler(divide_operation=jnp.mean)\n",
    "target_scaler = preprocessing.CustomScaler(divide_operation=jnp.mean)\n",
    "cost_scaler = preprocessing.CustomScaler(divide_operation=jnp.mean, multiply_by=0.15)\n",
    "\n",
    "media_data_train = media_scaler.fit_transform(media_data_train)\n",
    "extra_features_train = extra_features_scaler.fit_transform(extra_features_train)\n",
    "target_train = target_scaler.fit_transform(target_train)\n",
    "costs = cost_scaler.fit_transform(costs)\n",
    "mmm = lightweight_mmm.LightweightMMM(model_name=\"hill_adstock\")\n",
    "mmm.fit( media=media_data_train, media_prior=costs, target=target_train, extra_features=extra_features_train, number_warmup=3000, number_samples=3000, media_names = mdsp_cols, seed=SEED)"
   ]
  },
  {
   "cell_type": "code",
   "execution_count": 75,
   "metadata": {},
   "outputs": [
    {
     "name": "stdout",
     "output_type": "stream",
     "text": [
      "\n",
      "                                         mean       std    median      5.0%     95.0%     n_eff     r_hat\n",
      "             coef_extra_features[0]      0.03      0.82      0.00     -1.28      1.40    909.15      1.00\n",
      "             coef_extra_features[1]     -0.00      0.70      0.00     -1.17      1.17    609.47      1.00\n",
      "             coef_extra_features[2]     -0.01      0.01     -0.02     -0.03     -0.00    733.58      1.00\n",
      "             coef_extra_features[3]      0.00      0.00      0.00     -0.00      0.01   1346.04      1.00\n",
      "             coef_extra_features[4]     -0.02      0.69     -0.03     -1.16      1.12    508.58      1.00\n",
      "             coef_extra_features[5]      0.02      0.70      0.01     -1.19      1.15    609.71      1.00\n",
      "             coef_extra_features[6]     -0.01      0.00     -0.01     -0.01     -0.00   1532.66      1.00\n",
      "             coef_extra_features[7]     -0.00      0.00     -0.00     -0.01      0.00   1294.14      1.00\n",
      "             coef_extra_features[8]     -0.02      0.01     -0.02     -0.03     -0.01   1163.54      1.00\n",
      "             coef_extra_features[9]      0.00      0.00      0.00     -0.00      0.01   1113.26      1.00\n",
      "            coef_extra_features[10]     -0.00      0.00     -0.00     -0.01      0.01   1187.98      1.00\n",
      "            coef_extra_features[11]     -0.00      0.00     -0.00     -0.01      0.00   1206.74      1.00\n",
      "            coef_extra_features[12]      0.01      0.00      0.01      0.00      0.01   1254.83      1.00\n",
      "            coef_extra_features[13]     -0.00      0.00     -0.00     -0.01      0.00   1187.20      1.00\n",
      "            coef_extra_features[14]     -0.02      0.01     -0.02     -0.03     -0.00    691.09      1.00\n",
      "            coef_extra_features[15]      0.01      0.01      0.01     -0.00      0.02    715.69      1.00\n",
      "            coef_extra_features[16]     -0.02      0.87     -0.03     -1.42      1.42    892.11      1.00\n",
      "            coef_extra_features[17]      0.00      0.00      0.00     -0.00      0.01   1257.79      1.00\n",
      "            coef_extra_features[18]      0.00      0.00      0.00     -0.00      0.01   1274.12      1.00\n",
      "            coef_extra_features[19]      0.05      0.87      0.03     -1.38      1.46    807.53      1.01\n",
      "            coef_extra_features[20]      0.00      0.00      0.00     -0.00      0.01   1418.30      1.00\n",
      "            coef_extra_features[21]     -0.06      0.72     -0.06     -1.25      1.11    602.69      1.00\n",
      "            coef_extra_features[22]     -0.03      0.08     -0.02     -0.17      0.10     63.93      1.03\n",
      "            coef_extra_features[23]     -0.03      0.09     -0.02     -0.17      0.11     63.02      1.04\n",
      "            coef_extra_features[24]     -0.04      0.07     -0.03     -0.15      0.07     61.61      1.04\n",
      "            coef_extra_features[25]     -0.07      0.07     -0.06     -0.17      0.04     60.80      1.04\n",
      "            coef_extra_features[26]     -0.09      0.09     -0.08     -0.23      0.04     59.83      1.04\n",
      "            coef_extra_features[27]     -0.09      0.07     -0.08     -0.19      0.02     59.99      1.04\n",
      "            coef_extra_features[28]     -0.10      0.09     -0.09     -0.24      0.04     61.27      1.04\n",
      "            coef_extra_features[29]     -0.13      0.12     -0.12     -0.33      0.04     60.28      1.04\n",
      "            coef_extra_features[30]     -0.12      0.09     -0.11     -0.27      0.02     58.63      1.04\n",
      "            coef_extra_features[31]     -0.05      0.10     -0.04     -0.21      0.10     61.93      1.04\n",
      "            coef_extra_features[32]     -0.03      0.02     -0.03     -0.07      0.01     57.72      1.04\n",
      "            coef_extra_features[33]      0.03      0.72      0.03     -1.13      1.23    595.12      1.00\n",
      "            coef_extra_features[34]     -0.02      0.02     -0.02     -0.06      0.02     57.42      1.04\n",
      "            coef_extra_features[35]     -0.05      0.87     -0.05     -1.47      1.41    822.33      1.00\n",
      "            coef_extra_features[36]      0.02      0.70      0.03     -1.11      1.16    507.98      1.00\n",
      "            coef_extra_features[37]     -0.00      0.02      0.00     -0.04      0.03     57.61      1.04\n",
      "            coef_extra_features[38]      0.03      0.02      0.03     -0.01      0.07     64.03      1.03\n",
      "            coef_extra_features[39]      0.02      0.02      0.03     -0.02      0.06     61.16      1.03\n",
      "            coef_extra_features[40]     -0.01      0.02     -0.01     -0.05      0.03     64.06      1.03\n",
      "                      coef_media[0]      0.31      0.24      0.25      0.00      0.64   1864.66      1.00\n",
      "                      coef_media[1]      0.04      0.03      0.03      0.00      0.08   1952.98      1.00\n",
      "                      coef_media[2]      0.12      0.09      0.10      0.00      0.24   1154.80      1.00\n",
      "                      coef_media[3]      0.06      0.04      0.05      0.00      0.12   1367.52      1.00\n",
      "                      coef_media[4]      0.08      0.06      0.07      0.00      0.17   1285.32      1.00\n",
      "                      coef_media[5]      0.05      0.04      0.04      0.00      0.10   1640.15      1.00\n",
      "                      coef_media[6]      0.11      0.08      0.09      0.00      0.22   1384.22      1.00\n",
      "                      coef_trend[0]     -0.00      0.00     -0.00     -0.01      0.01    708.05      1.00\n",
      "                         expo_trend      0.68      0.18      0.63      0.50      0.93    756.33      1.01\n",
      "             gamma_seasonality[0,0]      0.20      0.24      0.20     -0.19      0.58    735.57      1.00\n",
      "             gamma_seasonality[0,1]      0.39      0.28      0.39     -0.04      0.86    782.26      1.00\n",
      "             gamma_seasonality[1,0]     -0.09      0.13     -0.09     -0.31      0.12    978.22      1.00\n",
      "             gamma_seasonality[1,1]     -0.21      0.12     -0.21     -0.41     -0.02    914.41      1.00\n",
      "half_max_effective_concentration[0]      1.02      1.06      0.68      0.00      2.36   2282.48      1.00\n",
      "half_max_effective_concentration[1]      0.98      0.99      0.67      0.00      2.26   2199.45      1.00\n",
      "half_max_effective_concentration[2]      1.03      1.04      0.72      0.00      2.40   1794.41      1.00\n",
      "half_max_effective_concentration[3]      1.01      1.01      0.68      0.00      2.38   2363.18      1.00\n",
      "half_max_effective_concentration[4]      1.03      1.01      0.74      0.00      2.35   1837.31      1.00\n",
      "half_max_effective_concentration[5]      1.00      1.02      0.68      0.00      2.31   2002.12      1.00\n",
      "half_max_effective_concentration[6]      0.97      0.98      0.67      0.00      2.27   1961.90      1.00\n",
      "                       intercept[0]      1.43      1.03      1.24      0.01      2.92     57.91      1.04\n",
      "                      lag_weight[0]      0.71      0.22      0.75      0.38      1.00   1554.83      1.00\n",
      "                      lag_weight[1]      0.65      0.25      0.70      0.29      1.00   1280.75      1.00\n",
      "                      lag_weight[2]      0.67      0.24      0.72      0.31      1.00   1326.47      1.00\n",
      "                      lag_weight[3]      0.68      0.24      0.73      0.32      1.00   1141.09      1.00\n",
      "                      lag_weight[4]      0.66      0.24      0.70      0.30      1.00   1055.86      1.01\n",
      "                      lag_weight[5]      0.67      0.24      0.72      0.32      1.00   1281.52      1.00\n",
      "                      lag_weight[6]      0.66      0.24      0.70      0.31      1.00   1259.51      1.00\n",
      "                           sigma[0]      0.29      0.02      0.29      0.27      0.32   1074.64      1.00\n",
      "                           slope[0]      0.87      0.91      0.59      0.00      2.01   1878.61      1.00\n",
      "                           slope[1]      1.00      0.99      0.70      0.00      2.30   2390.19      1.00\n",
      "                           slope[2]      0.90      0.93      0.62      0.00      2.08   1657.87      1.00\n",
      "                           slope[3]      0.96      0.99      0.64      0.00      2.25   2198.37      1.00\n",
      "                           slope[4]      1.04      1.01      0.74      0.00      2.39   1824.45      1.00\n",
      "                           slope[5]      1.04      1.01      0.74      0.00      2.39   2335.83      1.00\n",
      "                           slope[6]      1.05      0.97      0.77      0.00      2.31   2109.40      1.00\n",
      "\n",
      "Number of divergences: 2\n"
     ]
    }
   ],
   "source": [
    "mmm.print_summary()"
   ]
  },
  {
   "cell_type": "code",
   "execution_count": 76,
   "metadata": {},
   "outputs": [
    {
     "data": {
      "image/png": "[encoded data removed]",
      "text/plain": [
       "<Figure size 432x288 with 1 Axes>"
      ]
     },
     "execution_count": 76,
     "metadata": {},
     "output_type": "execute_result"
    }
   ],
   "source": [
    "plot.plot_model_fit(mmm, target_scaler=target_scaler)"
   ]
  },
  {
   "cell_type": "code",
   "execution_count": 78,
   "metadata": {},
   "outputs": [
    {
     "name": "stdout",
     "output_type": "stream",
     "text": [
      "Requirement already satisfied: statsmodels in c:\\users\\61401\\appdata\\local\\programs\\python\\python39\\lib\\site-packages (0.14.0)Note: you may need to restart the kernel to use updated packages.\n",
      "\n",
      "Requirement already satisfied: numpy>=1.18 in c:\\users\\61401\\appdata\\local\\programs\\python\\python39\\lib\\site-packages (from statsmodels) (1.24.3)\n",
      "Requirement already satisfied: scipy!=1.9.2,>=1.4 in c:\\users\\61401\\appdata\\local\\programs\\python\\python39\\lib\\site-packages (from statsmodels) (1.11.1)\n",
      "Requirement already satisfied: pandas>=1.0 in c:\\users\\61401\\appdata\\local\\programs\\python\\python39\\lib\\site-packages (from statsmodels) (2.0.3)\n",
      "Requirement already satisfied: patsy>=0.5.2 in c:\\users\\61401\\appdata\\local\\programs\\python\\python39\\lib\\site-packages (from statsmodels) (0.5.3)\n",
      "Requirement already satisfied: packaging>=21.3 in c:\\users\\61401\\appdata\\local\\programs\\python\\python39\\lib\\site-packages (from statsmodels) (23.1)\n",
      "Requirement already satisfied: python-dateutil>=2.8.2 in c:\\users\\61401\\appdata\\local\\programs\\python\\python39\\lib\\site-packages (from pandas>=1.0->statsmodels) (2.8.2)\n",
      "Requirement already satisfied: pytz>=2020.1 in c:\\users\\61401\\appdata\\local\\programs\\python\\python39\\lib\\site-packages (from pandas>=1.0->statsmodels) (2023.3)\n",
      "Requirement already satisfied: tzdata>=2022.1 in c:\\users\\61401\\appdata\\local\\programs\\python\\python39\\lib\\site-packages (from pandas>=1.0->statsmodels) (2023.3)\n",
      "Requirement already satisfied: six in c:\\users\\61401\\appdata\\local\\programs\\python\\python39\\lib\\site-packages (from patsy>=0.5.2->statsmodels) (1.16.0)\n"
     ]
    }
   ],
   "source": [
    "pip install statsmodels"
   ]
  },
  {
   "cell_type": "code",
   "execution_count": 79,
   "metadata": {},
   "outputs": [],
   "source": [
    "import statsmodels"
   ]
  },
  {
   "cell_type": "code",
   "execution_count": null,
   "metadata": {},
   "outputs": [],
   "source": [
    "from statsmodels.tsa.stattools import adfuller\n",
    "def stationary_check(series):\n",
    "    X=series.values\n",
    "    result = adfuller(X)\n",
    "    print('ADF Statistic: %f' % result[0])\n",
    "    print('p-value: %f' % result[1])\n",
    "    print('Critical Values:')\n",
    "    for key, value in result[4].items():\n",
    "    print('\\t%s: %.3f' % (key, value))"
   ]
  },
  {
   "cell_type": "code",
   "execution_count": 82,
   "metadata": {},
   "outputs": [],
   "source": [
    "alpha_1 = 0.5\n",
    "import numpy as np\n",
    "np.random.seed(SEED)\n",
    "ar = np.r_[1, -np.array([alpha_1])] # add zero-lag and negate\n",
    "ma = np.r_[1] # add zero-lag"
   ]
  },
  {
   "cell_type": "code",
   "execution_count": null,
   "metadata": {},
   "outputs": [],
   "source": [
    "from statsmodels.tsa.ar"
   ]
  },
  {
   "cell_type": "code",
   "execution_count": null,
   "metadata": {},
   "outputs": [],
   "source": [
    "np."
   ]
  },
  {
   "cell_type": "code",
   "execution_count": 84,
   "metadata": {},
   "outputs": [
    {
     "ename": "AttributeError",
     "evalue": "module 'statsmodels.tsa' has no attribute 'arima_process'",
     "output_type": "error",
     "traceback": [
      "\u001b[1;31m---------------------------------------------------------------------------\u001b[0m",
      "\u001b[1;31mAttributeError\u001b[0m                            Traceback (most recent call last)",
      "\u001b[1;32m~\\AppData\\Local\\Temp/ipykernel_19576/2249780818.py\u001b[0m in \u001b[0;36m<module>\u001b[1;34m\u001b[0m\n\u001b[1;32m----> 1\u001b[1;33m \u001b[0ma\u001b[0m\u001b[1;33m=\u001b[0m\u001b[0mstatsmodels\u001b[0m\u001b[1;33m.\u001b[0m\u001b[0mtsa\u001b[0m\u001b[1;33m.\u001b[0m\u001b[0marima_process\u001b[0m\u001b[1;33m.\u001b[0m\u001b[0marma_generate_sample\u001b[0m\u001b[1;33m(\u001b[0m\u001b[0mar\u001b[0m\u001b[1;33m,\u001b[0m\u001b[0mma\u001b[0m\u001b[1;33m,\u001b[0m\u001b[1;36m1000\u001b[0m\u001b[1;33m)\u001b[0m\u001b[1;33m\u001b[0m\u001b[1;33m\u001b[0m\u001b[0m\n\u001b[0m\u001b[0;32m      2\u001b[0m \u001b[0mplt\u001b[0m\u001b[1;33m.\u001b[0m\u001b[0mscatter\u001b[0m\u001b[1;33m(\u001b[0m\u001b[0ma\u001b[0m\u001b[1;33m)\u001b[0m\u001b[1;33m\u001b[0m\u001b[1;33m\u001b[0m\u001b[0m\n",
      "\u001b[1;31mAttributeError\u001b[0m: module 'statsmodels.tsa' has no attribute 'arima_process'"
     ]
    }
   ],
   "source": [
    "a=statsmodels.tsa.arima_process.arma_generate_sample(ar,ma,1000)\n",
    "plt.scatter(a)"
   ]
  },
  {
   "cell_type": "code",
   "execution_count": null,
   "metadata": {},
   "outputs": [],
   "source": [
    "from statsmodels.graphics.tsaplots import plot_acf\n",
    "from statsmodels.graphics.tsaplots import plot_pacf"
   ]
  }
 ],
 "metadata": {
  "kernelspec": {
   "display_name": "Python 3",
   "language": "python",
   "name": "python3"
  },
  "language_info": {
   "codemirror_mode": {
    "name": "ipython",
    "version": 3
   },
   "file_extension": ".py",
   "mimetype": "text/x-python",
   "name": "python",
   "nbconvert_exporter": "python",
   "pygments_lexer": "ipython3",
   "version": "3.9.6"
  },
  "orig_nbformat": 4
 },
 "nbformat": 4,
 "nbformat_minor": 2
}
